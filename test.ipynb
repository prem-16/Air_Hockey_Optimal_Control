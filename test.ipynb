{
 "cells": [
  {
   "cell_type": "code",
   "execution_count": 1,
   "metadata": {
    "ExecuteTime": {
     "end_time": "2023-10-13T12:41:45.599062938Z",
     "start_time": "2023-10-13T12:41:44.382973008Z"
    }
   },
   "outputs": [
    {
     "ename": "ModuleNotFoundError",
     "evalue": "No module named 'utils'",
     "output_type": "error",
     "traceback": [
      "\u001B[0;31m---------------------------------------------------------------------------\u001B[0m",
      "\u001B[0;31mModuleNotFoundError\u001B[0m                       Traceback (most recent call last)",
      "Cell \u001B[0;32mIn[1], line 7\u001B[0m\n\u001B[1;32m      4\u001B[0m \u001B[38;5;28;01mimport\u001B[39;00m \u001B[38;5;21;01margparse\u001B[39;00m\n\u001B[1;32m      5\u001B[0m \u001B[38;5;28;01mimport\u001B[39;00m \u001B[38;5;21;01mos\u001B[39;00m\n\u001B[0;32m----> 7\u001B[0m \u001B[38;5;28;01mimport\u001B[39;00m \u001B[38;5;21;01mutils\u001B[39;00m\n\u001B[1;32m      8\u001B[0m \u001B[38;5;66;03m# import OurDDPG\u001B[39;00m\n\u001B[1;32m      9\u001B[0m \u001B[38;5;66;03m# import DDPG\u001B[39;00m\n\u001B[1;32m     10\u001B[0m \u001B[38;5;28;01mfrom\u001B[39;00m \u001B[38;5;21;01mair_hockey_challenge\u001B[39;00m\u001B[38;5;21;01m.\u001B[39;00m\u001B[38;5;21;01mframework\u001B[39;00m\u001B[38;5;21;01m.\u001B[39;00m\u001B[38;5;21;01mair_hockey_challenge_wrapper\u001B[39;00m \u001B[38;5;28;01mimport\u001B[39;00m AirHockeyChallengeWrapper\n",
      "\u001B[0;31mModuleNotFoundError\u001B[0m: No module named 'utils'"
     ]
    }
   ],
   "source": [
    "import numpy as np\n",
    "import torch\n",
    "import gym\n",
    "import argparse\n",
    "import os\n",
    "\n",
    "import utils\n",
    "# import OurDDPG\n",
    "# import DDPG\n",
    "from air_hockey_challenge.framework.air_hockey_challenge_wrapper import AirHockeyChallengeWrapper\n",
    "from air_hockey_agent.agent_builder import build_agent\n",
    "from air_hockey_challenge.utils.kinematics import inverse_kinematics, jacobian, forward_kinematics"
   ]
  },
  {
   "cell_type": "code",
   "execution_count": 10,
   "metadata": {
    "ExecuteTime": {
     "end_time": "2023-10-13T12:36:59.407262511Z",
     "start_time": "2023-10-13T12:36:59.404559160Z"
    }
   },
   "outputs": [],
   "source": [
    "\n",
    "# # Runs policy for X episodes and returns average reward\n",
    "# # A fixed seed is used for the eval environment\n",
    "# def eval_policy(policy, eval_episodes=10):\n",
    "# \teval_env = AirHockeyChallengeWrapper(env=\"3dof-hit\", action_type=\"position-velocity\", interpolation_order=3, debug=True,custom_reward_function=custom_rewards)\n",
    "\n",
    "\n",
    "# \tavg_reward = 0.\n",
    "# \tfor _ in range(eval_episodes):\n",
    "# \t\tstate, done = eval_env.reset(), False\n",
    "# \t\twhile not done:\n",
    "# \t\t\taction = policy.draw_action(np.array(state)).reshape(2,3)\n",
    "# \t\t\tstate, reward, done, _ = eval_env.step(action)\n",
    "# \t\t\tavg_reward += reward\n",
    "\n",
    "# \tavg_reward /= eval_episodes\n",
    "\n",
    "# \tprint(\"---------------------------------------\")\n",
    "# \tprint(f\"Evaluation over {eval_episodes} episodes: {avg_reward:.3f}\")\n",
    "# \tprint(\"---------------------------------------\")\n",
    "# \treturn avg_reward\n",
    "\n"
   ]
  },
  {
   "cell_type": "code",
   "execution_count": 11,
   "metadata": {
    "ExecuteTime": {
     "end_time": "2023-10-13T12:37:00.895249951Z",
     "start_time": "2023-10-13T12:37:00.893221884Z"
    }
   },
   "outputs": [
    {
     "data": {
      "text/plain": "{'table': {'length': 1.948, 'width': 1.038, 'goal_width': 0.25},\n 'puck': {'radius': 0.03165},\n 'mallet': {'radius': 0.04815},\n 'n_agents': 2,\n 'robot': {'n_joints': 7,\n  'ee_desired_height': 0.1645,\n  'joint_vel_limit': array([[-1.48352986, -1.48352986, -1.74532925, -1.30899694, -2.26892803,\n          -2.35619449, -2.35619449],\n         [ 1.48352986,  1.48352986,  1.74532925,  1.30899694,  2.26892803,\n           2.35619449,  2.35619449]]),\n  'joint_acc_limit': array([[-14.83529864, -14.83529864, -17.45329252, -13.08996939,\n          -22.68928028, -23.5619449 , -23.5619449 ],\n         [ 14.83529864,  14.83529864,  17.45329252,  13.08996939,\n           22.68928028,  23.5619449 ,  23.5619449 ]]),\n  'base_frame': [array([[ 1.  ,  0.  ,  0.  , -1.51],\n          [ 0.  ,  1.  ,  0.  ,  0.  ],\n          [ 0.  ,  0.  ,  1.  , -0.1 ],\n          [ 0.  ,  0.  ,  0.  ,  1.  ]]),\n   array([[-1.  ,  0.  ,  0.  ,  1.51],\n          [ 0.  , -1.  ,  0.  ,  0.  ],\n          [ 0.  ,  0.  ,  1.  , -0.1 ],\n          [ 0.  ,  0.  ,  0.  ,  1.  ]])],\n  'universal_height': 0.0645,\n  'control_frequency': 50,\n  'joint_pos_limit': array([[-2.96706, -2.0944 , -2.96706, -2.0944 , -2.96706, -2.0944 ,\n          -3.05433],\n         [ 2.96706,  2.0944 ,  2.96706,  2.0944 ,  2.96706,  2.0944 ,\n           3.05433]]),\n  'robot_model': <mujoco._structs.MjModel at 0x7f2a0cf15ef0>,\n  'robot_data': <mujoco._structs.MjData at 0x7f2a0cea9bf0>},\n 'puck_pos_ids': [0, 1, 2],\n 'puck_vel_ids': [3, 4, 5],\n 'joint_pos_ids': [6, 7, 8, 9, 10, 11, 12],\n 'joint_vel_ids': [13, 14, 15, 16, 17, 18, 19],\n 'opponent_ee_ids': [20, 21, 22],\n 'dt': 0.02,\n 'rl_info': <mushroom_rl.core.environment.MDPInfo at 0x7f2b3478a550>,\n 'constraints': <air_hockey_challenge.constraints.constraints.ConstraintList at 0x7f2a139f3d00>,\n 'env_name': '7dof-hit'}"
     },
     "execution_count": 11,
     "metadata": {},
     "output_type": "execute_result"
    }
   ],
   "source": [
    "env.env_info"
   ]
  },
  {
   "cell_type": "code",
   "execution_count": 12,
   "outputs": [],
   "source": [
    "env = AirHockeyChallengeWrapper(env=\"7dof-hit\", interpolation_order=1, debug=True)\n",
    "policy = build_agent(env.env_info)\n",
    "# evaluations = eval_policy(policy)"
   ],
   "metadata": {
    "collapsed": false,
    "ExecuteTime": {
     "end_time": "2023-10-13T12:37:03.637806419Z",
     "start_time": "2023-10-13T12:37:02.865395924Z"
    }
   }
  },
  {
   "cell_type": "code",
   "execution_count": 13,
   "metadata": {
    "ExecuteTime": {
     "end_time": "2023-10-13T12:37:04.685820784Z",
     "start_time": "2023-10-13T12:37:04.649356044Z"
    }
   },
   "outputs": [
    {
     "ename": "AttributeError",
     "evalue": "'numpy.ndarray' object has no attribute 'is_scalar'",
     "output_type": "error",
     "traceback": [
      "\u001B[0;31m---------------------------------------------------------------------------\u001B[0m",
      "\u001B[0;31mAttributeError\u001B[0m                            Traceback (most recent call last)",
      "\u001B[0;32m~/miniconda3/envs/mpcrl/lib/python3.8/site-packages/casadi/casadi.py\u001B[0m in \u001B[0;36m?\u001B[0;34m(self, *args, **kwargs)\u001B[0m\n\u001B[1;32m  11031\u001B[0m             \u001B[0;32mreturn\u001B[0m \u001B[0mself\u001B[0m\u001B[0;34m.\u001B[0m\u001B[0mfull\u001B[0m\u001B[0;34m(\u001B[0m\u001B[0;34m)\u001B[0m\u001B[0;34m\u001B[0m\u001B[0;34m\u001B[0m\u001B[0m\n\u001B[1;32m  11032\u001B[0m           \u001B[0;32mexcept\u001B[0m\u001B[0;34m:\u001B[0m\u001B[0;34m\u001B[0m\u001B[0;34m\u001B[0m\u001B[0m\n\u001B[0;32m> 11033\u001B[0;31m             \u001B[0;32mif\u001B[0m \u001B[0mself\u001B[0m\u001B[0;34m.\u001B[0m\u001B[0mis_scalar\u001B[0m\u001B[0;34m(\u001B[0m\u001B[0;32mTrue\u001B[0m\u001B[0;34m)\u001B[0m\u001B[0;34m:\u001B[0m\u001B[0;34m\u001B[0m\u001B[0;34m\u001B[0m\u001B[0m\n\u001B[0m\u001B[1;32m  11034\u001B[0m \u001B[0;31m#Needed for#2743\u001B[0m\u001B[0;34m\u001B[0m\u001B[0;34m\u001B[0m\u001B[0;34m\u001B[0m\u001B[0m\n",
      "\u001B[0;31mAttributeError\u001B[0m: 'numpy.ndarray' object has no attribute 'full'",
      "\nDuring handling of the above exception, another exception occurred:\n",
      "\u001B[0;31mAttributeError\u001B[0m                            Traceback (most recent call last)",
      "\u001B[0;32m/tmp/ipykernel_13822/2970670446.py\u001B[0m in \u001B[0;36m?\u001B[0;34m()\u001B[0m\n\u001B[0;32m----> 3\u001B[0;31m \u001B[0;31m# env = AirHockeyChallengeWrapper(env=\"3dof-hit\", action_type=\"position-velocity\", interpolation_order=3, debug=True)\u001B[0m\u001B[0;34m\u001B[0m\u001B[0;34m\u001B[0m\u001B[0;34m\u001B[0m\u001B[0m\n\u001B[0m\u001B[1;32m      4\u001B[0m \u001B[0;32mfrom\u001B[0m \u001B[0mair_hockey_challenge\u001B[0m\u001B[0;34m.\u001B[0m\u001B[0mutils\u001B[0m\u001B[0;34m.\u001B[0m\u001B[0mkinematics\u001B[0m \u001B[0;32mimport\u001B[0m \u001B[0mforward_kinematics\u001B[0m\u001B[0;34m,\u001B[0m \u001B[0mjacobian\u001B[0m\u001B[0;34m\u001B[0m\u001B[0;34m\u001B[0m\u001B[0m\n\u001B[1;32m      5\u001B[0m \u001B[0mstate\u001B[0m\u001B[0;34m,\u001B[0m \u001B[0mdone\u001B[0m \u001B[0;34m=\u001B[0m \u001B[0menv\u001B[0m\u001B[0;34m.\u001B[0m\u001B[0mreset\u001B[0m\u001B[0;34m(\u001B[0m\u001B[0;34m)\u001B[0m\u001B[0;34m,\u001B[0m \u001B[0;32mFalse\u001B[0m\u001B[0;34m\u001B[0m\u001B[0;34m\u001B[0m\u001B[0m\n\u001B[1;32m      6\u001B[0m \u001B[0menv\u001B[0m\u001B[0;34m.\u001B[0m\u001B[0mrender\u001B[0m\u001B[0;34m(\u001B[0m\u001B[0;34m)\u001B[0m\u001B[0;34m\u001B[0m\u001B[0;34m\u001B[0m\u001B[0m\n",
      "\u001B[0;32m~/MPCRL_Project/air-hockey/td3/air_hockey_challenge/framework/air_hockey_challenge_wrapper.py\u001B[0m in \u001B[0;36m?\u001B[0;34m(self, state)\u001B[0m\n\u001B[1;32m     84\u001B[0m     \u001B[0;32mdef\u001B[0m \u001B[0mreset\u001B[0m\u001B[0;34m(\u001B[0m\u001B[0mself\u001B[0m\u001B[0;34m,\u001B[0m \u001B[0mstate\u001B[0m\u001B[0;34m=\u001B[0m\u001B[0;32mNone\u001B[0m\u001B[0;34m)\u001B[0m\u001B[0;34m:\u001B[0m\u001B[0;34m\u001B[0m\u001B[0;34m\u001B[0m\u001B[0m\n\u001B[0;32m---> 85\u001B[0;31m         \u001B[0;32mreturn\u001B[0m \u001B[0mself\u001B[0m\u001B[0;34m.\u001B[0m\u001B[0mbase_env\u001B[0m\u001B[0;34m.\u001B[0m\u001B[0mreset\u001B[0m\u001B[0;34m(\u001B[0m\u001B[0mstate\u001B[0m\u001B[0;34m)\u001B[0m\u001B[0;34m\u001B[0m\u001B[0;34m\u001B[0m\u001B[0m\n\u001B[0m",
      "\u001B[0;32m~/MPCRL_Project/air-hockey/td3/air_hockey_challenge/environments/position_control_wrapper.py\u001B[0m in \u001B[0;36m?\u001B[0;34m(self, obs)\u001B[0m\n\u001B[1;32m    184\u001B[0m     \u001B[0;32mdef\u001B[0m \u001B[0mreset\u001B[0m\u001B[0;34m(\u001B[0m\u001B[0mself\u001B[0m\u001B[0;34m,\u001B[0m \u001B[0mobs\u001B[0m\u001B[0;34m=\u001B[0m\u001B[0;32mNone\u001B[0m\u001B[0;34m)\u001B[0m\u001B[0;34m:\u001B[0m\u001B[0;34m\u001B[0m\u001B[0;34m\u001B[0m\u001B[0m\n\u001B[0;32m--> 185\u001B[0;31m         \u001B[0mobs\u001B[0m \u001B[0;34m=\u001B[0m \u001B[0msuper\u001B[0m\u001B[0;34m(\u001B[0m\u001B[0mPositionControl\u001B[0m\u001B[0;34m,\u001B[0m \u001B[0mself\u001B[0m\u001B[0;34m)\u001B[0m\u001B[0;34m.\u001B[0m\u001B[0mreset\u001B[0m\u001B[0;34m(\u001B[0m\u001B[0mobs\u001B[0m\u001B[0;34m)\u001B[0m\u001B[0;34m\u001B[0m\u001B[0;34m\u001B[0m\u001B[0m\n\u001B[0m\u001B[1;32m    186\u001B[0m         \u001B[0mself\u001B[0m\u001B[0;34m.\u001B[0m\u001B[0mprev_pos\u001B[0m \u001B[0;34m=\u001B[0m \u001B[0mself\u001B[0m\u001B[0;34m.\u001B[0m\u001B[0m_data\u001B[0m\u001B[0;34m.\u001B[0m\u001B[0mqpos\u001B[0m\u001B[0;34m[\u001B[0m\u001B[0mself\u001B[0m\u001B[0;34m.\u001B[0m\u001B[0mactuator_joint_ids\u001B[0m\u001B[0;34m]\u001B[0m\u001B[0;34m\u001B[0m\u001B[0;34m\u001B[0m\u001B[0m\n\u001B[1;32m    187\u001B[0m         \u001B[0mself\u001B[0m\u001B[0;34m.\u001B[0m\u001B[0mprev_vel\u001B[0m \u001B[0;34m=\u001B[0m \u001B[0mself\u001B[0m\u001B[0;34m.\u001B[0m\u001B[0m_data\u001B[0m\u001B[0;34m.\u001B[0m\u001B[0mqvel\u001B[0m\u001B[0;34m[\u001B[0m\u001B[0mself\u001B[0m\u001B[0;34m.\u001B[0m\u001B[0mactuator_joint_ids\u001B[0m\u001B[0;34m]\u001B[0m\u001B[0;34m\u001B[0m\u001B[0;34m\u001B[0m\u001B[0m\n\u001B[1;32m    188\u001B[0m         \u001B[0mself\u001B[0m\u001B[0;34m.\u001B[0m\u001B[0mprev_acc\u001B[0m \u001B[0;34m=\u001B[0m \u001B[0mnp\u001B[0m\u001B[0;34m.\u001B[0m\u001B[0mzeros\u001B[0m\u001B[0;34m(\u001B[0m\u001B[0mlen\u001B[0m\u001B[0;34m(\u001B[0m\u001B[0mself\u001B[0m\u001B[0;34m.\u001B[0m\u001B[0mactuator_joint_ids\u001B[0m\u001B[0;34m)\u001B[0m\u001B[0;34m)\u001B[0m\u001B[0;34m\u001B[0m\u001B[0;34m\u001B[0m\u001B[0m\n",
      "\u001B[0;32m~/miniconda3/envs/mpcrl/lib/python3.8/site-packages/mushroom_rl/environments/mujoco.py\u001B[0m in \u001B[0;36m?\u001B[0;34m(self, obs)\u001B[0m\n\u001B[1;32m    132\u001B[0m     \u001B[0;32mdef\u001B[0m \u001B[0mreset\u001B[0m\u001B[0;34m(\u001B[0m\u001B[0mself\u001B[0m\u001B[0;34m,\u001B[0m \u001B[0mobs\u001B[0m\u001B[0;34m=\u001B[0m\u001B[0;32mNone\u001B[0m\u001B[0;34m)\u001B[0m\u001B[0;34m:\u001B[0m\u001B[0;34m\u001B[0m\u001B[0;34m\u001B[0m\u001B[0m\n\u001B[1;32m    133\u001B[0m         \u001B[0mmujoco\u001B[0m\u001B[0;34m.\u001B[0m\u001B[0mmj_resetData\u001B[0m\u001B[0;34m(\u001B[0m\u001B[0mself\u001B[0m\u001B[0;34m.\u001B[0m\u001B[0m_model\u001B[0m\u001B[0;34m,\u001B[0m \u001B[0mself\u001B[0m\u001B[0;34m.\u001B[0m\u001B[0m_data\u001B[0m\u001B[0;34m)\u001B[0m\u001B[0;34m\u001B[0m\u001B[0;34m\u001B[0m\u001B[0m\n\u001B[0;32m--> 134\u001B[0;31m         \u001B[0mself\u001B[0m\u001B[0;34m.\u001B[0m\u001B[0msetup\u001B[0m\u001B[0;34m(\u001B[0m\u001B[0mobs\u001B[0m\u001B[0;34m)\u001B[0m\u001B[0;34m\u001B[0m\u001B[0;34m\u001B[0m\u001B[0m\n\u001B[0m\u001B[1;32m    135\u001B[0m \u001B[0;34m\u001B[0m\u001B[0m\n\u001B[1;32m    136\u001B[0m         \u001B[0mself\u001B[0m\u001B[0;34m.\u001B[0m\u001B[0m_obs\u001B[0m \u001B[0;34m=\u001B[0m \u001B[0mself\u001B[0m\u001B[0;34m.\u001B[0m\u001B[0m_create_observation\u001B[0m\u001B[0;34m(\u001B[0m\u001B[0mself\u001B[0m\u001B[0;34m.\u001B[0m\u001B[0mobs_helper\u001B[0m\u001B[0;34m.\u001B[0m\u001B[0m_build_obs\u001B[0m\u001B[0;34m(\u001B[0m\u001B[0mself\u001B[0m\u001B[0;34m.\u001B[0m\u001B[0m_data\u001B[0m\u001B[0;34m)\u001B[0m\u001B[0;34m)\u001B[0m\u001B[0;34m\u001B[0m\u001B[0;34m\u001B[0m\u001B[0m\n\u001B[1;32m    137\u001B[0m         \u001B[0;32mreturn\u001B[0m \u001B[0mself\u001B[0m\u001B[0;34m.\u001B[0m\u001B[0m_modify_observation\u001B[0m\u001B[0;34m(\u001B[0m\u001B[0mself\u001B[0m\u001B[0;34m.\u001B[0m\u001B[0m_obs\u001B[0m\u001B[0;34m)\u001B[0m\u001B[0;34m\u001B[0m\u001B[0;34m\u001B[0m\u001B[0m\n",
      "\u001B[0;32m~/MPCRL_Project/air-hockey/td3/air_hockey_challenge/environments/position_control_wrapper.py\u001B[0m in \u001B[0;36m?\u001B[0;34m(self, obs)\u001B[0m\n\u001B[1;32m    271\u001B[0m     \u001B[0;32mdef\u001B[0m \u001B[0msetup\u001B[0m\u001B[0;34m(\u001B[0m\u001B[0mself\u001B[0m\u001B[0;34m,\u001B[0m \u001B[0mobs\u001B[0m\u001B[0;34m)\u001B[0m\u001B[0;34m:\u001B[0m\u001B[0;34m\u001B[0m\u001B[0;34m\u001B[0m\u001B[0m\n\u001B[0;32m--> 272\u001B[0;31m         \u001B[0msuper\u001B[0m\u001B[0;34m(\u001B[0m\u001B[0;34m)\u001B[0m\u001B[0;34m.\u001B[0m\u001B[0msetup\u001B[0m\u001B[0;34m(\u001B[0m\u001B[0mobs\u001B[0m\u001B[0;34m)\u001B[0m\u001B[0;34m\u001B[0m\u001B[0;34m\u001B[0m\u001B[0m\n\u001B[0m\u001B[1;32m    273\u001B[0m         \u001B[0mself\u001B[0m\u001B[0;34m.\u001B[0m\u001B[0m_opponent_agent_gen\u001B[0m \u001B[0;34m=\u001B[0m \u001B[0mself\u001B[0m\u001B[0;34m.\u001B[0m\u001B[0m_default_opponent_action_gen\u001B[0m\u001B[0;34m(\u001B[0m\u001B[0;34m)\u001B[0m\u001B[0;34m\u001B[0m\u001B[0;34m\u001B[0m\u001B[0m\n",
      "\u001B[0;32m~/MPCRL_Project/air-hockey/td3/air_hockey_challenge/environments/iiwas/env_hitting.py\u001B[0m in \u001B[0;36m?\u001B[0;34m(self, obs)\u001B[0m\n\u001B[1;32m     49\u001B[0m             \u001B[0mself\u001B[0m\u001B[0;34m.\u001B[0m\u001B[0m_write_data\u001B[0m\u001B[0;34m(\u001B[0m\u001B[0;34m\"puck_x_vel\"\u001B[0m\u001B[0;34m,\u001B[0m \u001B[0mpuck_vel\u001B[0m\u001B[0;34m[\u001B[0m\u001B[0;36m0\u001B[0m\u001B[0;34m]\u001B[0m\u001B[0;34m)\u001B[0m\u001B[0;34m\u001B[0m\u001B[0;34m\u001B[0m\u001B[0m\n\u001B[1;32m     50\u001B[0m             \u001B[0mself\u001B[0m\u001B[0;34m.\u001B[0m\u001B[0m_write_data\u001B[0m\u001B[0;34m(\u001B[0m\u001B[0;34m\"puck_y_vel\"\u001B[0m\u001B[0;34m,\u001B[0m \u001B[0mpuck_vel\u001B[0m\u001B[0;34m[\u001B[0m\u001B[0;36m1\u001B[0m\u001B[0;34m]\u001B[0m\u001B[0;34m)\u001B[0m\u001B[0;34m\u001B[0m\u001B[0;34m\u001B[0m\u001B[0m\n\u001B[1;32m     51\u001B[0m             \u001B[0mself\u001B[0m\u001B[0;34m.\u001B[0m\u001B[0m_write_data\u001B[0m\u001B[0;34m(\u001B[0m\u001B[0;34m\"puck_yaw_vel\"\u001B[0m\u001B[0;34m,\u001B[0m \u001B[0mpuck_vel\u001B[0m\u001B[0;34m[\u001B[0m\u001B[0;36m2\u001B[0m\u001B[0;34m]\u001B[0m\u001B[0;34m)\u001B[0m\u001B[0;34m\u001B[0m\u001B[0;34m\u001B[0m\u001B[0m\n\u001B[1;32m     52\u001B[0m \u001B[0;34m\u001B[0m\u001B[0m\n\u001B[0;32m---> 53\u001B[0;31m         \u001B[0msuper\u001B[0m\u001B[0;34m(\u001B[0m\u001B[0mAirHockeyHit\u001B[0m\u001B[0;34m,\u001B[0m \u001B[0mself\u001B[0m\u001B[0;34m)\u001B[0m\u001B[0;34m.\u001B[0m\u001B[0msetup\u001B[0m\u001B[0;34m(\u001B[0m\u001B[0mobs\u001B[0m\u001B[0;34m)\u001B[0m\u001B[0;34m\u001B[0m\u001B[0;34m\u001B[0m\u001B[0m\n\u001B[0m",
      "\u001B[0;32m~/MPCRL_Project/air-hockey/td3/air_hockey_challenge/environments/iiwas/env_double.py\u001B[0m in \u001B[0;36m?\u001B[0;34m(self, obs)\u001B[0m\n\u001B[1;32m    132\u001B[0m             \u001B[0mself\u001B[0m\u001B[0;34m.\u001B[0m\u001B[0mq_pos_prev\u001B[0m\u001B[0;34m[\u001B[0m\u001B[0mi\u001B[0m \u001B[0;34m+\u001B[0m \u001B[0;36m7\u001B[0m\u001B[0;34m]\u001B[0m \u001B[0;34m=\u001B[0m \u001B[0mself\u001B[0m\u001B[0;34m.\u001B[0m\u001B[0minit_state\u001B[0m\u001B[0;34m[\u001B[0m\u001B[0mi\u001B[0m\u001B[0;34m]\u001B[0m\u001B[0;34m\u001B[0m\u001B[0;34m\u001B[0m\u001B[0m\n\u001B[1;32m    133\u001B[0m             \u001B[0mself\u001B[0m\u001B[0;34m.\u001B[0m\u001B[0mq_vel_prev\u001B[0m\u001B[0;34m[\u001B[0m\u001B[0mi\u001B[0m\u001B[0;34m]\u001B[0m \u001B[0;34m=\u001B[0m \u001B[0mself\u001B[0m\u001B[0;34m.\u001B[0m\u001B[0m_data\u001B[0m\u001B[0;34m.\u001B[0m\u001B[0mjoint\u001B[0m\u001B[0;34m(\u001B[0m\u001B[0;34m\"iiwa_1/joint_\"\u001B[0m \u001B[0;34m+\u001B[0m \u001B[0mstr\u001B[0m\u001B[0;34m(\u001B[0m\u001B[0mi\u001B[0m \u001B[0;34m+\u001B[0m \u001B[0;36m1\u001B[0m\u001B[0;34m)\u001B[0m\u001B[0;34m)\u001B[0m\u001B[0;34m.\u001B[0m\u001B[0mqvel\u001B[0m\u001B[0;34m\u001B[0m\u001B[0;34m\u001B[0m\u001B[0m\n\u001B[1;32m    134\u001B[0m             \u001B[0mself\u001B[0m\u001B[0;34m.\u001B[0m\u001B[0mq_vel_prev\u001B[0m\u001B[0;34m[\u001B[0m\u001B[0mi\u001B[0m \u001B[0;34m+\u001B[0m \u001B[0;36m7\u001B[0m\u001B[0;34m]\u001B[0m \u001B[0;34m=\u001B[0m \u001B[0mself\u001B[0m\u001B[0;34m.\u001B[0m\u001B[0m_data\u001B[0m\u001B[0;34m.\u001B[0m\u001B[0mjoint\u001B[0m\u001B[0;34m(\u001B[0m\u001B[0;34m\"iiwa_2/joint_\"\u001B[0m \u001B[0;34m+\u001B[0m \u001B[0mstr\u001B[0m\u001B[0;34m(\u001B[0m\u001B[0mi\u001B[0m \u001B[0;34m+\u001B[0m \u001B[0;36m1\u001B[0m\u001B[0;34m)\u001B[0m\u001B[0;34m)\u001B[0m\u001B[0;34m.\u001B[0m\u001B[0mqvel\u001B[0m\u001B[0;34m\u001B[0m\u001B[0;34m\u001B[0m\u001B[0m\n\u001B[1;32m    135\u001B[0m \u001B[0;34m\u001B[0m\u001B[0m\n\u001B[0;32m--> 136\u001B[0;31m         \u001B[0mself\u001B[0m\u001B[0;34m.\u001B[0m\u001B[0muniversal_joint_plugin\u001B[0m\u001B[0;34m.\u001B[0m\u001B[0mreset\u001B[0m\u001B[0;34m(\u001B[0m\u001B[0;34m)\u001B[0m\u001B[0;34m\u001B[0m\u001B[0;34m\u001B[0m\u001B[0m\n\u001B[0m\u001B[1;32m    137\u001B[0m \u001B[0;34m\u001B[0m\u001B[0m\n\u001B[1;32m    138\u001B[0m         \u001B[0msuper\u001B[0m\u001B[0;34m(\u001B[0m\u001B[0;34m)\u001B[0m\u001B[0;34m.\u001B[0m\u001B[0msetup\u001B[0m\u001B[0;34m(\u001B[0m\u001B[0mobs\u001B[0m\u001B[0;34m)\u001B[0m\u001B[0;34m\u001B[0m\u001B[0;34m\u001B[0m\u001B[0m\n\u001B[1;32m    139\u001B[0m         \u001B[0;31m# Update body positions, needed for _compute_universal_joint\u001B[0m\u001B[0;34m\u001B[0m\u001B[0;34m\u001B[0m\u001B[0;34m\u001B[0m\u001B[0m\n",
      "\u001B[0;32m~/MPCRL_Project/air-hockey/td3/air_hockey_challenge/utils/universal_joint_plugin.py\u001B[0m in \u001B[0;36m?\u001B[0;34m(self)\u001B[0m\n\u001B[1;32m     38\u001B[0m     \u001B[0;32mdef\u001B[0m \u001B[0mreset\u001B[0m\u001B[0;34m(\u001B[0m\u001B[0mself\u001B[0m\u001B[0;34m)\u001B[0m\u001B[0;34m:\u001B[0m\u001B[0;34m\u001B[0m\u001B[0;34m\u001B[0m\u001B[0m\n\u001B[1;32m     39\u001B[0m         \u001B[0mself\u001B[0m\u001B[0;34m.\u001B[0m\u001B[0mu_joint_pos_prev\u001B[0m \u001B[0;34m=\u001B[0m \u001B[0;32mNone\u001B[0m\u001B[0;34m\u001B[0m\u001B[0;34m\u001B[0m\u001B[0m\n\u001B[0;32m---> 40\u001B[0;31m         \u001B[0mself\u001B[0m\u001B[0;34m.\u001B[0m\u001B[0m_control_universal_joint\u001B[0m\u001B[0;34m(\u001B[0m\u001B[0;34m)\u001B[0m\u001B[0;34m\u001B[0m\u001B[0;34m\u001B[0m\u001B[0m\n\u001B[0m\u001B[1;32m     41\u001B[0m         \u001B[0;32mfor\u001B[0m \u001B[0mi\u001B[0m \u001B[0;32min\u001B[0m \u001B[0mrange\u001B[0m\u001B[0;34m(\u001B[0m\u001B[0mself\u001B[0m\u001B[0;34m.\u001B[0m\u001B[0menv_info\u001B[0m\u001B[0;34m[\u001B[0m\u001B[0;34m'n_agents'\u001B[0m\u001B[0;34m]\u001B[0m\u001B[0;34m)\u001B[0m\u001B[0;34m:\u001B[0m\u001B[0;34m\u001B[0m\u001B[0;34m\u001B[0m\u001B[0m\n\u001B[1;32m     42\u001B[0m             \u001B[0mself\u001B[0m\u001B[0;34m.\u001B[0m\u001B[0mu_joint_vel_prev\u001B[0m \u001B[0;34m=\u001B[0m \u001B[0mself\u001B[0m\u001B[0;34m.\u001B[0m\u001B[0menv_data\u001B[0m\u001B[0;34m.\u001B[0m\u001B[0mqvel\u001B[0m\u001B[0;34m[\u001B[0m\u001B[0mself\u001B[0m\u001B[0;34m.\u001B[0m\u001B[0muniversal_joint_ids\u001B[0m\u001B[0;34m]\u001B[0m\u001B[0;34m\u001B[0m\u001B[0;34m\u001B[0m\u001B[0m\n\u001B[1;32m     43\u001B[0m \u001B[0;34m\u001B[0m\u001B[0m\n",
      "\u001B[0;32m~/MPCRL_Project/air-hockey/td3/air_hockey_challenge/utils/universal_joint_plugin.py\u001B[0m in \u001B[0;36m?\u001B[0;34m(self)\u001B[0m\n\u001B[1;32m     49\u001B[0m     \u001B[0;32mdef\u001B[0m \u001B[0m_control_universal_joint\u001B[0m\u001B[0;34m(\u001B[0m\u001B[0mself\u001B[0m\u001B[0;34m)\u001B[0m\u001B[0;34m:\u001B[0m\u001B[0;34m\u001B[0m\u001B[0;34m\u001B[0m\u001B[0m\n\u001B[0;32m---> 50\u001B[0;31m         \u001B[0mself\u001B[0m\u001B[0;34m.\u001B[0m\u001B[0m_compute_universal_joint\u001B[0m\u001B[0;34m(\u001B[0m\u001B[0;34m)\u001B[0m\u001B[0;34m\u001B[0m\u001B[0;34m\u001B[0m\u001B[0m\n\u001B[0m\u001B[1;32m     51\u001B[0m         \u001B[0mself\u001B[0m\u001B[0;34m.\u001B[0m\u001B[0mu_joint_pos_prev\u001B[0m \u001B[0;34m=\u001B[0m \u001B[0mself\u001B[0m\u001B[0;34m.\u001B[0m\u001B[0menv_data\u001B[0m\u001B[0;34m.\u001B[0m\u001B[0mqpos\u001B[0m\u001B[0;34m[\u001B[0m\u001B[0mself\u001B[0m\u001B[0;34m.\u001B[0m\u001B[0muniversal_joint_ids\u001B[0m\u001B[0;34m]\u001B[0m\u001B[0;34m\u001B[0m\u001B[0;34m\u001B[0m\u001B[0m\n\u001B[1;32m     52\u001B[0m         \u001B[0mself\u001B[0m\u001B[0;34m.\u001B[0m\u001B[0mu_joint_vel_prev\u001B[0m \u001B[0;34m=\u001B[0m \u001B[0mself\u001B[0m\u001B[0;34m.\u001B[0m\u001B[0mfilter_ratio\u001B[0m \u001B[0;34m*\u001B[0m \u001B[0mself\u001B[0m\u001B[0;34m.\u001B[0m\u001B[0menv_data\u001B[0m\u001B[0;34m.\u001B[0m\u001B[0mqvel\u001B[0m\u001B[0;34m[\u001B[0m\u001B[0mself\u001B[0m\u001B[0;34m.\u001B[0m\u001B[0muniversal_joint_ids\u001B[0m\u001B[0;34m]\u001B[0m \u001B[0;34m+\u001B[0m\u001B[0;31m \u001B[0m\u001B[0;31m\\\u001B[0m\u001B[0;34m\u001B[0m\u001B[0;34m\u001B[0m\u001B[0m\n\u001B[1;32m     53\u001B[0m                                 \u001B[0;34m(\u001B[0m\u001B[0;36m1\u001B[0m \u001B[0;34m-\u001B[0m \u001B[0mself\u001B[0m\u001B[0;34m.\u001B[0m\u001B[0mfilter_ratio\u001B[0m\u001B[0;34m)\u001B[0m \u001B[0;34m*\u001B[0m \u001B[0mself\u001B[0m\u001B[0;34m.\u001B[0m\u001B[0mu_joint_vel_prev\u001B[0m\u001B[0;34m\u001B[0m\u001B[0;34m\u001B[0m\u001B[0m\n",
      "\u001B[0;32m~/MPCRL_Project/air-hockey/td3/air_hockey_challenge/utils/universal_joint_plugin.py\u001B[0m in \u001B[0;36m?\u001B[0;34m(self)\u001B[0m\n\u001B[1;32m     60\u001B[0m     \u001B[0;32mdef\u001B[0m \u001B[0m_compute_universal_joint\u001B[0m\u001B[0;34m(\u001B[0m\u001B[0mself\u001B[0m\u001B[0;34m)\u001B[0m\u001B[0;34m:\u001B[0m\u001B[0;34m\u001B[0m\u001B[0;34m\u001B[0m\u001B[0m\n\u001B[1;32m     61\u001B[0m         \u001B[0;32mfor\u001B[0m \u001B[0mi\u001B[0m \u001B[0;32min\u001B[0m \u001B[0mrange\u001B[0m\u001B[0;34m(\u001B[0m\u001B[0mself\u001B[0m\u001B[0;34m.\u001B[0m\u001B[0menv_info\u001B[0m\u001B[0;34m[\u001B[0m\u001B[0;34m'n_agents'\u001B[0m\u001B[0;34m]\u001B[0m\u001B[0;34m)\u001B[0m\u001B[0;34m:\u001B[0m\u001B[0;34m\u001B[0m\u001B[0;34m\u001B[0m\u001B[0m\n\u001B[1;32m     62\u001B[0m             \u001B[0mq\u001B[0m \u001B[0;34m=\u001B[0m \u001B[0mself\u001B[0m\u001B[0;34m.\u001B[0m\u001B[0menv_data\u001B[0m\u001B[0;34m.\u001B[0m\u001B[0mqpos\u001B[0m\u001B[0;34m[\u001B[0m\u001B[0mself\u001B[0m\u001B[0;34m.\u001B[0m\u001B[0mactuator_joint_ids\u001B[0m\u001B[0;34m[\u001B[0m\u001B[0mi\u001B[0m \u001B[0;34m*\u001B[0m \u001B[0;36m7\u001B[0m\u001B[0;34m:\u001B[0m \u001B[0;34m(\u001B[0m\u001B[0mi\u001B[0m \u001B[0;34m+\u001B[0m \u001B[0;36m1\u001B[0m\u001B[0;34m)\u001B[0m \u001B[0;34m*\u001B[0m \u001B[0;36m7\u001B[0m\u001B[0;34m]\u001B[0m\u001B[0;34m]\u001B[0m\u001B[0;34m\u001B[0m\u001B[0;34m\u001B[0m\u001B[0m\n\u001B[1;32m     63\u001B[0m             \u001B[0;31m# Have to exclude the puck joints\u001B[0m\u001B[0;34m\u001B[0m\u001B[0;34m\u001B[0m\u001B[0;34m\u001B[0m\u001B[0m\n\u001B[0;32m---> 64\u001B[0;31m             pos, rot_mat = forward_kinematics(self.env_info['robot']['robot_model'],\n\u001B[0m\u001B[1;32m     65\u001B[0m                                               self.env_info['robot']['robot_data'], q)\n\u001B[1;32m     66\u001B[0m \u001B[0;34m\u001B[0m\u001B[0m\n\u001B[1;32m     67\u001B[0m             \u001B[0mv_x\u001B[0m \u001B[0;34m=\u001B[0m \u001B[0mrot_mat\u001B[0m\u001B[0;34m[\u001B[0m\u001B[0;34m:\u001B[0m\u001B[0;34m,\u001B[0m \u001B[0;36m0\u001B[0m\u001B[0;34m]\u001B[0m\u001B[0;34m\u001B[0m\u001B[0;34m\u001B[0m\u001B[0m\n",
      "\u001B[0;32m~/MPCRL_Project/air-hockey/td3/air_hockey_challenge/utils/kinematics.py\u001B[0m in \u001B[0;36m?\u001B[0;34m(mj_model, mj_data, q, link)\u001B[0m\n\u001B[1;32m     35\u001B[0m     \u001B[0morientation\u001B[0m\u001B[0;34m:\u001B[0m \u001B[0mnumpy\u001B[0m\u001B[0;34m.\u001B[0m\u001B[0mndarray\u001B[0m\u001B[0;34m,\u001B[0m \u001B[0;34m(\u001B[0m\u001B[0;36m3\u001B[0m\u001B[0;34m,\u001B[0m \u001B[0;36m3\u001B[0m\u001B[0;34m)\u001B[0m\u001B[0;34m\u001B[0m\u001B[0;34m\u001B[0m\u001B[0m\n\u001B[1;32m     36\u001B[0m         \u001B[0mOrientation\u001B[0m \u001B[0mof\u001B[0m \u001B[0mthe\u001B[0m \u001B[0mlink\u001B[0m \u001B[0;32min\u001B[0m \u001B[0mrobot\u001B[0m\u001B[0;31m'\u001B[0m\u001B[0ms\u001B[0m \u001B[0mbase\u001B[0m \u001B[0mframe\u001B[0m\u001B[0;34m\u001B[0m\u001B[0;34m\u001B[0m\u001B[0m\n\u001B[1;32m     37\u001B[0m     \"\"\"\n\u001B[1;32m     38\u001B[0m \u001B[0;34m\u001B[0m\u001B[0m\n\u001B[0;32m---> 39\u001B[0;31m     \u001B[0;32mreturn\u001B[0m \u001B[0m_mujoco_fk\u001B[0m\u001B[0;34m(\u001B[0m\u001B[0mq\u001B[0m\u001B[0;34m,\u001B[0m \u001B[0mlink_to_xml_name\u001B[0m\u001B[0;34m(\u001B[0m\u001B[0mmj_model\u001B[0m\u001B[0;34m,\u001B[0m \u001B[0mlink\u001B[0m\u001B[0;34m)\u001B[0m\u001B[0;34m,\u001B[0m \u001B[0mmj_model\u001B[0m\u001B[0;34m,\u001B[0m \u001B[0mmj_data\u001B[0m\u001B[0;34m)\u001B[0m\u001B[0;34m\u001B[0m\u001B[0;34m\u001B[0m\u001B[0m\n\u001B[0m",
      "\u001B[0;32m~/MPCRL_Project/air-hockey/td3/air_hockey_challenge/utils/kinematics.py\u001B[0m in \u001B[0;36m?\u001B[0;34m(q, name, model, data)\u001B[0m\n\u001B[1;32m    150\u001B[0m \u001B[0;32mdef\u001B[0m \u001B[0m_mujoco_fk\u001B[0m\u001B[0;34m(\u001B[0m\u001B[0mq\u001B[0m\u001B[0;34m,\u001B[0m \u001B[0mname\u001B[0m\u001B[0;34m,\u001B[0m \u001B[0mmodel\u001B[0m\u001B[0;34m,\u001B[0m \u001B[0mdata\u001B[0m\u001B[0;34m)\u001B[0m\u001B[0;34m:\u001B[0m\u001B[0;34m\u001B[0m\u001B[0;34m\u001B[0m\u001B[0m\n\u001B[0;32m--> 151\u001B[0;31m     \u001B[0mdata\u001B[0m\u001B[0;34m.\u001B[0m\u001B[0mqpos\u001B[0m\u001B[0;34m[\u001B[0m\u001B[0;34m:\u001B[0m\u001B[0mlen\u001B[0m\u001B[0;34m(\u001B[0m\u001B[0mq\u001B[0m\u001B[0;34m)\u001B[0m\u001B[0;34m]\u001B[0m \u001B[0;34m=\u001B[0m \u001B[0mq\u001B[0m\u001B[0;34m\u001B[0m\u001B[0;34m\u001B[0m\u001B[0m\n\u001B[0m\u001B[1;32m    152\u001B[0m     \u001B[0mmujoco\u001B[0m\u001B[0;34m.\u001B[0m\u001B[0mmj_fwdPosition\u001B[0m\u001B[0;34m(\u001B[0m\u001B[0mmodel\u001B[0m\u001B[0;34m,\u001B[0m \u001B[0mdata\u001B[0m\u001B[0;34m)\u001B[0m\u001B[0;34m\u001B[0m\u001B[0;34m\u001B[0m\u001B[0m\n\u001B[1;32m    153\u001B[0m     \u001B[0;32mreturn\u001B[0m \u001B[0mdata\u001B[0m\u001B[0;34m.\u001B[0m\u001B[0mbody\u001B[0m\u001B[0;34m(\u001B[0m\u001B[0mname\u001B[0m\u001B[0;34m)\u001B[0m\u001B[0;34m.\u001B[0m\u001B[0mxpos\u001B[0m\u001B[0;34m.\u001B[0m\u001B[0mcopy\u001B[0m\u001B[0;34m(\u001B[0m\u001B[0;34m)\u001B[0m\u001B[0;34m,\u001B[0m \u001B[0mdata\u001B[0m\u001B[0;34m.\u001B[0m\u001B[0mbody\u001B[0m\u001B[0;34m(\u001B[0m\u001B[0mname\u001B[0m\u001B[0;34m)\u001B[0m\u001B[0;34m.\u001B[0m\u001B[0mxmat\u001B[0m\u001B[0;34m.\u001B[0m\u001B[0mreshape\u001B[0m\u001B[0;34m(\u001B[0m\u001B[0;36m3\u001B[0m\u001B[0;34m,\u001B[0m \u001B[0;36m3\u001B[0m\u001B[0;34m)\u001B[0m\u001B[0;34m.\u001B[0m\u001B[0mcopy\u001B[0m\u001B[0;34m(\u001B[0m\u001B[0;34m)\u001B[0m\u001B[0;34m\u001B[0m\u001B[0;34m\u001B[0m\u001B[0m\n",
      "\u001B[0;32m~/miniconda3/envs/mpcrl/lib/python3.8/site-packages/casadi/casadi.py\u001B[0m in \u001B[0;36m?\u001B[0;34m(self, *args, **kwargs)\u001B[0m\n\u001B[1;32m  11029\u001B[0m         \u001B[0;32melse\u001B[0m\u001B[0;34m:\u001B[0m\u001B[0;34m\u001B[0m\u001B[0;34m\u001B[0m\u001B[0m\n\u001B[1;32m  11030\u001B[0m           \u001B[0;32mtry\u001B[0m\u001B[0;34m:\u001B[0m\u001B[0;34m\u001B[0m\u001B[0;34m\u001B[0m\u001B[0m\n\u001B[1;32m  11031\u001B[0m             \u001B[0;32mreturn\u001B[0m \u001B[0mself\u001B[0m\u001B[0;34m.\u001B[0m\u001B[0mfull\u001B[0m\u001B[0;34m(\u001B[0m\u001B[0;34m)\u001B[0m\u001B[0;34m\u001B[0m\u001B[0;34m\u001B[0m\u001B[0m\n\u001B[1;32m  11032\u001B[0m           \u001B[0;32mexcept\u001B[0m\u001B[0;34m:\u001B[0m\u001B[0;34m\u001B[0m\u001B[0;34m\u001B[0m\u001B[0m\n\u001B[0;32m> 11033\u001B[0;31m             \u001B[0;32mif\u001B[0m \u001B[0mself\u001B[0m\u001B[0;34m.\u001B[0m\u001B[0mis_scalar\u001B[0m\u001B[0;34m(\u001B[0m\u001B[0;32mTrue\u001B[0m\u001B[0;34m)\u001B[0m\u001B[0;34m:\u001B[0m\u001B[0;34m\u001B[0m\u001B[0;34m\u001B[0m\u001B[0m\n\u001B[0m\u001B[1;32m  11034\u001B[0m \u001B[0;31m#Needed for#2743\u001B[0m\u001B[0;34m\u001B[0m\u001B[0;34m\u001B[0m\u001B[0;34m\u001B[0m\u001B[0m\n\u001B[1;32m  11035\u001B[0m               \u001B[0mE\u001B[0m\u001B[0;34m=\u001B[0m\u001B[0mn\u001B[0m\u001B[0;34m.\u001B[0m\u001B[0mempty\u001B[0m\u001B[0;34m(\u001B[0m\u001B[0;34m(\u001B[0m\u001B[0;34m)\u001B[0m\u001B[0;34m,\u001B[0m\u001B[0mdtype\u001B[0m\u001B[0;34m=\u001B[0m\u001B[0mobject\u001B[0m\u001B[0;34m)\u001B[0m\u001B[0;34m\u001B[0m\u001B[0;34m\u001B[0m\u001B[0m\n\u001B[1;32m  11036\u001B[0m               \u001B[0mE\u001B[0m\u001B[0;34m[\u001B[0m\u001B[0;34m(\u001B[0m\u001B[0;34m)\u001B[0m\u001B[0;34m]\u001B[0m \u001B[0;34m=\u001B[0m \u001B[0mself\u001B[0m\u001B[0;34m\u001B[0m\u001B[0;34m\u001B[0m\u001B[0m\n",
      "\u001B[0;31mAttributeError\u001B[0m: 'numpy.ndarray' object has no attribute 'is_scalar'"
     ]
    }
   ],
   "source": [
    "# env = AirHockeyChallengeWrapper(env=\"3dof-hit\", action_type=\"position-velocity\", interpolation_order=3, debug=True)\n",
    "from air_hockey_challenge.utils.kinematics import forward_kinematics, jacobian\n",
    "state, done = env.reset(), False\n",
    "env.render()"
   ]
  },
  {
   "cell_type": "code",
   "execution_count": 24,
   "metadata": {
    "ExecuteTime": {
     "end_time": "2023-10-13T09:10:49.627931298Z",
     "start_time": "2023-10-13T09:10:49.605321505Z"
    }
   },
   "outputs": [],
   "source": [
    "policy = build_agent(env.env_info) "
   ]
  },
  {
   "cell_type": "code",
   "execution_count": 25,
   "metadata": {
    "ExecuteTime": {
     "end_time": "2023-10-13T09:10:50.342802262Z",
     "start_time": "2023-10-13T09:10:50.337783573Z"
    }
   },
   "outputs": [],
   "source": [
    "from casadi import SX, sin, Function, inf,vertcat,nlpsol,qpsol,sumsqr\n",
    "import numpy as np"
   ]
  },
  {
   "cell_type": "code",
   "execution_count": 40,
   "metadata": {
    "ExecuteTime": {
     "end_time": "2023-10-13T09:17:45.275489025Z",
     "start_time": "2023-10-13T09:17:45.226585443Z"
    }
   },
   "outputs": [],
   "source": [
    "def integrate_RK4(s_expr, a_expr, sdot_expr, dt, N_steps=1):\n",
    "    '''RK4 integrator.\n",
    "\n",
    "    s_expr, a_expr: casadi expression that have been used to define the dynamics sdot_expr\n",
    "    sdot_expr:      casadi expr defining the rhs of the ode\n",
    "    dt:             integration interval\n",
    "    N_steps:        number of integration steps per integration interval, default:1\n",
    "    '''\n",
    "\n",
    "    h = dt/N_steps\n",
    "\n",
    "    s_end = s_expr\n",
    "\n",
    "    sdot_fun = Function('xdot', [s_expr, a_expr], [sdot_expr])\n",
    "\n",
    "    for _ in range(N_steps):\n",
    "\n",
    "    # FILL IN YOUR CODE HERE\n",
    "        v_1 = sdot_fun(s_end, a_expr)\n",
    "        v_2 = sdot_fun(s_end + 0.5 * h * v_1, a_expr)\n",
    "        v_3 = sdot_fun(s_end + 0.5 * h * v_2, a_expr)\n",
    "        v_4 = sdot_fun(s_end + v_3 * h, a_expr)\n",
    "        s_end += (1/6) * (v_1 + 2 * v_2 + 2 * v_3 + v_4) * h\n",
    "\n",
    "    F_expr = s_end\n",
    "\n",
    "    return F_expr"
   ]
  },
  {
   "cell_type": "code",
   "execution_count": 41,
   "metadata": {
    "ExecuteTime": {
     "end_time": "2023-10-13T09:17:46.214275600Z",
     "start_time": "2023-10-13T09:17:46.201955593Z"
    }
   },
   "outputs": [],
   "source": [
    "def solve_casadi(x0_bar,x_des,jac):\n",
    "    # continuous model dynamics\n",
    "    n_s = 3  # number of states\n",
    "    n_a = 7  # number of actions\n",
    "\n",
    "    x = SX.sym('x')\n",
    "    y = SX.sym('y')\n",
    "    z = SX.sym('z')\n",
    "\n",
    "    omega = SX.sym('omega',7)\n",
    "\n",
    "    s = vertcat(x,y,z)\n",
    "    # q_0 = policy.robot_data.qpos.copy()\n",
    "    # jac = jacobian(policy.robot_model, policy.robot_data,q_0)[:3, :7]\n",
    "    s_dot = vertcat(jac @ omega)\n",
    "    # Define number of steps in the control horizon and discretization step\n",
    "    # print(s_dot)\n",
    "    N = 10\n",
    "    delta_t = 1/50\n",
    "    # Define RK4 integrator function and initial state x0_bar\n",
    "    F_rk4 = Function(\"F_rk4\", [s, omega], [integrate_RK4(s, omega, s_dot, delta_t)])\n",
    "    # x0_bar = [-.5, .5,.165]\n",
    "\n",
    "    # Define the weighting matrix for the cost function\n",
    "    Q = np.eye(n_s)\n",
    "    R = np.eye(n_a)\n",
    "\n",
    "        # Start with an empty NLP\n",
    "    w = []\n",
    "    w0 = []\n",
    "    lbw = []\n",
    "    ubw = []\n",
    "    J = 0\n",
    "    g = []\n",
    "    lbg = []\n",
    "    ubg = []\n",
    "\n",
    "    # \"Lift\" initial conditions\n",
    "    Xk = SX.sym('X0', 3)\n",
    "    w += [Xk]\n",
    "    lbw += x0_bar    # set initial state\n",
    "    ubw += x0_bar    # set initial state\n",
    "    w0 += x0_bar     # set initial state\n",
    "\n",
    "    # Formulate the NLP\n",
    "    for k in range(N):\n",
    "        # New NLP variable for the control\n",
    "        Uk = SX.sym('U_' + str(k),7)\n",
    "        w   += [Uk]\n",
    "        lbw += [-1.48352986, -1.48352986, -1.74532925, -1.30899694, -2.26892803,\n",
    "        -2.35619449, -2.35619449]\n",
    "        ubw += [1.48352986, 1.48352986, 1.74532925, 1.30899694, 2.26892803,\n",
    "        2.35619449, 2.35619449]\n",
    "        w0  += [0,0,0,0,0,0,0]\n",
    "\n",
    "        # Integrate till the end of the interval\n",
    "        Xk_end = F_rk4(Xk, Uk)\n",
    "        # J = J + delta_t *(sumsqr((Xk-x_des).T @ Q )+ sumsqr(R@Uk)) # Complete with the stage cost\n",
    "        J = J + (sumsqr((Xk-x_des))) # Complete with the stage cost\n",
    "\n",
    "        # New NLP variable for state at end of interval\n",
    "        Xk = SX.sym(f'X_{k+1}', 3)\n",
    "        w += [Xk]\n",
    "        lbw += [.5,-.5,0.165]\n",
    "        ubw += [1.5,.5,0.25]\n",
    "        w0 += [0, 0,0.25]\n",
    "\n",
    "        # Add equality constraint to \"close the gap\" for multiple shooting\n",
    "        g   += [Xk_end-Xk]\n",
    "        lbg += [0, 0,0]\n",
    "        ubg += [0, 0,0]\n",
    "    J = J + sumsqr((Xk-x_des)) # Complete with the terminal cost (NOTE it should be weighted by delta_t)\n",
    "\n",
    "    # Create an NLP solver\n",
    "    prob = {'f': J, 'x': vertcat(*w), 'g': vertcat(*g)}\n",
    "    solver = nlpsol('solver', 'ipopt', prob)\n",
    "\n",
    "    # Solve the NLP\n",
    "    sol = solver(x0=w0, lbx=lbw, ubx=ubw, lbg=lbg, ubg=ubg)\n",
    "    w_opt = sol['x'].full().flatten()\n",
    "    # return np.array([w_opt[3::10],w_opt[4::10],w_opt[5::10],w_opt[6::10],w_opt[7::10],w_opt[8::10],w_opt[9::10]])\n",
    "    \n",
    "    return np.array(w_opt[3:10]),np.array(w_opt[-4:]),solver.stats()['success']\n",
    "    # return solver"
   ]
  },
  {
   "cell_type": "code",
   "execution_count": 42,
   "metadata": {
    "ExecuteTime": {
     "end_time": "2023-10-13T09:17:46.877735572Z",
     "start_time": "2023-10-13T09:17:46.846191372Z"
    }
   },
   "outputs": [
    {
     "ename": "AttributeError",
     "evalue": "'numpy.ndarray' object has no attribute 'is_scalar'",
     "output_type": "error",
     "traceback": [
      "\u001B[0;31m---------------------------------------------------------------------------\u001B[0m",
      "\u001B[0;31mAttributeError\u001B[0m                            Traceback (most recent call last)",
      "\u001B[0;32m~/miniconda3/envs/mpcrl/lib/python3.8/site-packages/casadi/casadi.py\u001B[0m in \u001B[0;36m?\u001B[0;34m(self, *args, **kwargs)\u001B[0m\n\u001B[1;32m  11031\u001B[0m             \u001B[0;32mreturn\u001B[0m \u001B[0mself\u001B[0m\u001B[0;34m.\u001B[0m\u001B[0mfull\u001B[0m\u001B[0;34m(\u001B[0m\u001B[0;34m)\u001B[0m\u001B[0;34m\u001B[0m\u001B[0;34m\u001B[0m\u001B[0m\n\u001B[1;32m  11032\u001B[0m           \u001B[0;32mexcept\u001B[0m\u001B[0;34m:\u001B[0m\u001B[0;34m\u001B[0m\u001B[0;34m\u001B[0m\u001B[0m\n\u001B[0;32m> 11033\u001B[0;31m             \u001B[0;32mif\u001B[0m \u001B[0mself\u001B[0m\u001B[0;34m.\u001B[0m\u001B[0mis_scalar\u001B[0m\u001B[0;34m(\u001B[0m\u001B[0;32mTrue\u001B[0m\u001B[0;34m)\u001B[0m\u001B[0;34m:\u001B[0m\u001B[0;34m\u001B[0m\u001B[0;34m\u001B[0m\u001B[0m\n\u001B[0m\u001B[1;32m  11034\u001B[0m \u001B[0;31m#Needed for#2743\u001B[0m\u001B[0;34m\u001B[0m\u001B[0;34m\u001B[0m\u001B[0;34m\u001B[0m\u001B[0m\n",
      "\u001B[0;31mAttributeError\u001B[0m: 'numpy.ndarray' object has no attribute 'full'",
      "\nDuring handling of the above exception, another exception occurred:\n",
      "\u001B[0;31mAttributeError\u001B[0m                            Traceback (most recent call last)",
      "\u001B[0;32m/tmp/ipykernel_7444/2510520016.py\u001B[0m in \u001B[0;36m?\u001B[0;34m()\u001B[0m\n\u001B[0;32m----> 1\u001B[0;31m \u001B[0mstate\u001B[0m\u001B[0;34m,\u001B[0m \u001B[0mdone\u001B[0m \u001B[0;34m=\u001B[0m \u001B[0menv\u001B[0m\u001B[0;34m.\u001B[0m\u001B[0mreset\u001B[0m\u001B[0;34m(\u001B[0m\u001B[0;34m)\u001B[0m\u001B[0;34m,\u001B[0m \u001B[0;32mFalse\u001B[0m\u001B[0;34m\u001B[0m\u001B[0;34m\u001B[0m\u001B[0m\n\u001B[0m\u001B[1;32m      2\u001B[0m \u001B[0menv\u001B[0m\u001B[0;34m.\u001B[0m\u001B[0mrender\u001B[0m\u001B[0;34m(\u001B[0m\u001B[0;34m)\u001B[0m\u001B[0;34m\u001B[0m\u001B[0;34m\u001B[0m\u001B[0m\n",
      "\u001B[0;32m~/MPCRL_Project/air-hockey/td3/air_hockey_challenge/framework/air_hockey_challenge_wrapper.py\u001B[0m in \u001B[0;36m?\u001B[0;34m(self, state)\u001B[0m\n\u001B[1;32m     84\u001B[0m     \u001B[0;32mdef\u001B[0m \u001B[0mreset\u001B[0m\u001B[0;34m(\u001B[0m\u001B[0mself\u001B[0m\u001B[0;34m,\u001B[0m \u001B[0mstate\u001B[0m\u001B[0;34m=\u001B[0m\u001B[0;32mNone\u001B[0m\u001B[0;34m)\u001B[0m\u001B[0;34m:\u001B[0m\u001B[0;34m\u001B[0m\u001B[0;34m\u001B[0m\u001B[0m\n\u001B[0;32m---> 85\u001B[0;31m         \u001B[0;32mreturn\u001B[0m \u001B[0mself\u001B[0m\u001B[0;34m.\u001B[0m\u001B[0mbase_env\u001B[0m\u001B[0;34m.\u001B[0m\u001B[0mreset\u001B[0m\u001B[0;34m(\u001B[0m\u001B[0mstate\u001B[0m\u001B[0;34m)\u001B[0m\u001B[0;34m\u001B[0m\u001B[0;34m\u001B[0m\u001B[0m\n\u001B[0m",
      "\u001B[0;32m~/MPCRL_Project/air-hockey/td3/air_hockey_challenge/environments/position_control_wrapper.py\u001B[0m in \u001B[0;36m?\u001B[0;34m(self, obs)\u001B[0m\n\u001B[1;32m    184\u001B[0m     \u001B[0;32mdef\u001B[0m \u001B[0mreset\u001B[0m\u001B[0;34m(\u001B[0m\u001B[0mself\u001B[0m\u001B[0;34m,\u001B[0m \u001B[0mobs\u001B[0m\u001B[0;34m=\u001B[0m\u001B[0;32mNone\u001B[0m\u001B[0;34m)\u001B[0m\u001B[0;34m:\u001B[0m\u001B[0;34m\u001B[0m\u001B[0;34m\u001B[0m\u001B[0m\n\u001B[0;32m--> 185\u001B[0;31m         \u001B[0mobs\u001B[0m \u001B[0;34m=\u001B[0m \u001B[0msuper\u001B[0m\u001B[0;34m(\u001B[0m\u001B[0mPositionControl\u001B[0m\u001B[0;34m,\u001B[0m \u001B[0mself\u001B[0m\u001B[0;34m)\u001B[0m\u001B[0;34m.\u001B[0m\u001B[0mreset\u001B[0m\u001B[0;34m(\u001B[0m\u001B[0mobs\u001B[0m\u001B[0;34m)\u001B[0m\u001B[0;34m\u001B[0m\u001B[0;34m\u001B[0m\u001B[0m\n\u001B[0m\u001B[1;32m    186\u001B[0m         \u001B[0mself\u001B[0m\u001B[0;34m.\u001B[0m\u001B[0mprev_pos\u001B[0m \u001B[0;34m=\u001B[0m \u001B[0mself\u001B[0m\u001B[0;34m.\u001B[0m\u001B[0m_data\u001B[0m\u001B[0;34m.\u001B[0m\u001B[0mqpos\u001B[0m\u001B[0;34m[\u001B[0m\u001B[0mself\u001B[0m\u001B[0;34m.\u001B[0m\u001B[0mactuator_joint_ids\u001B[0m\u001B[0;34m]\u001B[0m\u001B[0;34m\u001B[0m\u001B[0;34m\u001B[0m\u001B[0m\n\u001B[1;32m    187\u001B[0m         \u001B[0mself\u001B[0m\u001B[0;34m.\u001B[0m\u001B[0mprev_vel\u001B[0m \u001B[0;34m=\u001B[0m \u001B[0mself\u001B[0m\u001B[0;34m.\u001B[0m\u001B[0m_data\u001B[0m\u001B[0;34m.\u001B[0m\u001B[0mqvel\u001B[0m\u001B[0;34m[\u001B[0m\u001B[0mself\u001B[0m\u001B[0;34m.\u001B[0m\u001B[0mactuator_joint_ids\u001B[0m\u001B[0;34m]\u001B[0m\u001B[0;34m\u001B[0m\u001B[0;34m\u001B[0m\u001B[0m\n\u001B[1;32m    188\u001B[0m         \u001B[0mself\u001B[0m\u001B[0;34m.\u001B[0m\u001B[0mprev_acc\u001B[0m \u001B[0;34m=\u001B[0m \u001B[0mnp\u001B[0m\u001B[0;34m.\u001B[0m\u001B[0mzeros\u001B[0m\u001B[0;34m(\u001B[0m\u001B[0mlen\u001B[0m\u001B[0;34m(\u001B[0m\u001B[0mself\u001B[0m\u001B[0;34m.\u001B[0m\u001B[0mactuator_joint_ids\u001B[0m\u001B[0;34m)\u001B[0m\u001B[0;34m)\u001B[0m\u001B[0;34m\u001B[0m\u001B[0;34m\u001B[0m\u001B[0m\n",
      "\u001B[0;32m~/miniconda3/envs/mpcrl/lib/python3.8/site-packages/mushroom_rl/environments/mujoco.py\u001B[0m in \u001B[0;36m?\u001B[0;34m(self, obs)\u001B[0m\n\u001B[1;32m    132\u001B[0m     \u001B[0;32mdef\u001B[0m \u001B[0mreset\u001B[0m\u001B[0;34m(\u001B[0m\u001B[0mself\u001B[0m\u001B[0;34m,\u001B[0m \u001B[0mobs\u001B[0m\u001B[0;34m=\u001B[0m\u001B[0;32mNone\u001B[0m\u001B[0;34m)\u001B[0m\u001B[0;34m:\u001B[0m\u001B[0;34m\u001B[0m\u001B[0;34m\u001B[0m\u001B[0m\n\u001B[1;32m    133\u001B[0m         \u001B[0mmujoco\u001B[0m\u001B[0;34m.\u001B[0m\u001B[0mmj_resetData\u001B[0m\u001B[0;34m(\u001B[0m\u001B[0mself\u001B[0m\u001B[0;34m.\u001B[0m\u001B[0m_model\u001B[0m\u001B[0;34m,\u001B[0m \u001B[0mself\u001B[0m\u001B[0;34m.\u001B[0m\u001B[0m_data\u001B[0m\u001B[0;34m)\u001B[0m\u001B[0;34m\u001B[0m\u001B[0;34m\u001B[0m\u001B[0m\n\u001B[0;32m--> 134\u001B[0;31m         \u001B[0mself\u001B[0m\u001B[0;34m.\u001B[0m\u001B[0msetup\u001B[0m\u001B[0;34m(\u001B[0m\u001B[0mobs\u001B[0m\u001B[0;34m)\u001B[0m\u001B[0;34m\u001B[0m\u001B[0;34m\u001B[0m\u001B[0m\n\u001B[0m\u001B[1;32m    135\u001B[0m \u001B[0;34m\u001B[0m\u001B[0m\n\u001B[1;32m    136\u001B[0m         \u001B[0mself\u001B[0m\u001B[0;34m.\u001B[0m\u001B[0m_obs\u001B[0m \u001B[0;34m=\u001B[0m \u001B[0mself\u001B[0m\u001B[0;34m.\u001B[0m\u001B[0m_create_observation\u001B[0m\u001B[0;34m(\u001B[0m\u001B[0mself\u001B[0m\u001B[0;34m.\u001B[0m\u001B[0mobs_helper\u001B[0m\u001B[0;34m.\u001B[0m\u001B[0m_build_obs\u001B[0m\u001B[0;34m(\u001B[0m\u001B[0mself\u001B[0m\u001B[0;34m.\u001B[0m\u001B[0m_data\u001B[0m\u001B[0;34m)\u001B[0m\u001B[0;34m)\u001B[0m\u001B[0;34m\u001B[0m\u001B[0;34m\u001B[0m\u001B[0m\n\u001B[1;32m    137\u001B[0m         \u001B[0;32mreturn\u001B[0m \u001B[0mself\u001B[0m\u001B[0;34m.\u001B[0m\u001B[0m_modify_observation\u001B[0m\u001B[0;34m(\u001B[0m\u001B[0mself\u001B[0m\u001B[0;34m.\u001B[0m\u001B[0m_obs\u001B[0m\u001B[0;34m)\u001B[0m\u001B[0;34m\u001B[0m\u001B[0;34m\u001B[0m\u001B[0m\n",
      "\u001B[0;32m~/MPCRL_Project/air-hockey/td3/air_hockey_challenge/environments/position_control_wrapper.py\u001B[0m in \u001B[0;36m?\u001B[0;34m(self, obs)\u001B[0m\n\u001B[1;32m    271\u001B[0m     \u001B[0;32mdef\u001B[0m \u001B[0msetup\u001B[0m\u001B[0;34m(\u001B[0m\u001B[0mself\u001B[0m\u001B[0;34m,\u001B[0m \u001B[0mobs\u001B[0m\u001B[0;34m)\u001B[0m\u001B[0;34m:\u001B[0m\u001B[0;34m\u001B[0m\u001B[0;34m\u001B[0m\u001B[0m\n\u001B[0;32m--> 272\u001B[0;31m         \u001B[0msuper\u001B[0m\u001B[0;34m(\u001B[0m\u001B[0;34m)\u001B[0m\u001B[0;34m.\u001B[0m\u001B[0msetup\u001B[0m\u001B[0;34m(\u001B[0m\u001B[0mobs\u001B[0m\u001B[0;34m)\u001B[0m\u001B[0;34m\u001B[0m\u001B[0;34m\u001B[0m\u001B[0m\n\u001B[0m\u001B[1;32m    273\u001B[0m         \u001B[0mself\u001B[0m\u001B[0;34m.\u001B[0m\u001B[0m_opponent_agent_gen\u001B[0m \u001B[0;34m=\u001B[0m \u001B[0mself\u001B[0m\u001B[0;34m.\u001B[0m\u001B[0m_default_opponent_action_gen\u001B[0m\u001B[0;34m(\u001B[0m\u001B[0;34m)\u001B[0m\u001B[0;34m\u001B[0m\u001B[0;34m\u001B[0m\u001B[0m\n",
      "\u001B[0;32m~/MPCRL_Project/air-hockey/td3/air_hockey_challenge/environments/iiwas/env_hitting.py\u001B[0m in \u001B[0;36m?\u001B[0;34m(self, obs)\u001B[0m\n\u001B[1;32m     49\u001B[0m             \u001B[0mself\u001B[0m\u001B[0;34m.\u001B[0m\u001B[0m_write_data\u001B[0m\u001B[0;34m(\u001B[0m\u001B[0;34m\"puck_x_vel\"\u001B[0m\u001B[0;34m,\u001B[0m \u001B[0mpuck_vel\u001B[0m\u001B[0;34m[\u001B[0m\u001B[0;36m0\u001B[0m\u001B[0;34m]\u001B[0m\u001B[0;34m)\u001B[0m\u001B[0;34m\u001B[0m\u001B[0;34m\u001B[0m\u001B[0m\n\u001B[1;32m     50\u001B[0m             \u001B[0mself\u001B[0m\u001B[0;34m.\u001B[0m\u001B[0m_write_data\u001B[0m\u001B[0;34m(\u001B[0m\u001B[0;34m\"puck_y_vel\"\u001B[0m\u001B[0;34m,\u001B[0m \u001B[0mpuck_vel\u001B[0m\u001B[0;34m[\u001B[0m\u001B[0;36m1\u001B[0m\u001B[0;34m]\u001B[0m\u001B[0;34m)\u001B[0m\u001B[0;34m\u001B[0m\u001B[0;34m\u001B[0m\u001B[0m\n\u001B[1;32m     51\u001B[0m             \u001B[0mself\u001B[0m\u001B[0;34m.\u001B[0m\u001B[0m_write_data\u001B[0m\u001B[0;34m(\u001B[0m\u001B[0;34m\"puck_yaw_vel\"\u001B[0m\u001B[0;34m,\u001B[0m \u001B[0mpuck_vel\u001B[0m\u001B[0;34m[\u001B[0m\u001B[0;36m2\u001B[0m\u001B[0;34m]\u001B[0m\u001B[0;34m)\u001B[0m\u001B[0;34m\u001B[0m\u001B[0;34m\u001B[0m\u001B[0m\n\u001B[1;32m     52\u001B[0m \u001B[0;34m\u001B[0m\u001B[0m\n\u001B[0;32m---> 53\u001B[0;31m         \u001B[0msuper\u001B[0m\u001B[0;34m(\u001B[0m\u001B[0mAirHockeyHit\u001B[0m\u001B[0;34m,\u001B[0m \u001B[0mself\u001B[0m\u001B[0;34m)\u001B[0m\u001B[0;34m.\u001B[0m\u001B[0msetup\u001B[0m\u001B[0;34m(\u001B[0m\u001B[0mobs\u001B[0m\u001B[0;34m)\u001B[0m\u001B[0;34m\u001B[0m\u001B[0;34m\u001B[0m\u001B[0m\n\u001B[0m",
      "\u001B[0;32m~/MPCRL_Project/air-hockey/td3/air_hockey_challenge/environments/iiwas/env_double.py\u001B[0m in \u001B[0;36m?\u001B[0;34m(self, obs)\u001B[0m\n\u001B[1;32m    132\u001B[0m             \u001B[0mself\u001B[0m\u001B[0;34m.\u001B[0m\u001B[0mq_pos_prev\u001B[0m\u001B[0;34m[\u001B[0m\u001B[0mi\u001B[0m \u001B[0;34m+\u001B[0m \u001B[0;36m7\u001B[0m\u001B[0;34m]\u001B[0m \u001B[0;34m=\u001B[0m \u001B[0mself\u001B[0m\u001B[0;34m.\u001B[0m\u001B[0minit_state\u001B[0m\u001B[0;34m[\u001B[0m\u001B[0mi\u001B[0m\u001B[0;34m]\u001B[0m\u001B[0;34m\u001B[0m\u001B[0;34m\u001B[0m\u001B[0m\n\u001B[1;32m    133\u001B[0m             \u001B[0mself\u001B[0m\u001B[0;34m.\u001B[0m\u001B[0mq_vel_prev\u001B[0m\u001B[0;34m[\u001B[0m\u001B[0mi\u001B[0m\u001B[0;34m]\u001B[0m \u001B[0;34m=\u001B[0m \u001B[0mself\u001B[0m\u001B[0;34m.\u001B[0m\u001B[0m_data\u001B[0m\u001B[0;34m.\u001B[0m\u001B[0mjoint\u001B[0m\u001B[0;34m(\u001B[0m\u001B[0;34m\"iiwa_1/joint_\"\u001B[0m \u001B[0;34m+\u001B[0m \u001B[0mstr\u001B[0m\u001B[0;34m(\u001B[0m\u001B[0mi\u001B[0m \u001B[0;34m+\u001B[0m \u001B[0;36m1\u001B[0m\u001B[0;34m)\u001B[0m\u001B[0;34m)\u001B[0m\u001B[0;34m.\u001B[0m\u001B[0mqvel\u001B[0m\u001B[0;34m\u001B[0m\u001B[0;34m\u001B[0m\u001B[0m\n\u001B[1;32m    134\u001B[0m             \u001B[0mself\u001B[0m\u001B[0;34m.\u001B[0m\u001B[0mq_vel_prev\u001B[0m\u001B[0;34m[\u001B[0m\u001B[0mi\u001B[0m \u001B[0;34m+\u001B[0m \u001B[0;36m7\u001B[0m\u001B[0;34m]\u001B[0m \u001B[0;34m=\u001B[0m \u001B[0mself\u001B[0m\u001B[0;34m.\u001B[0m\u001B[0m_data\u001B[0m\u001B[0;34m.\u001B[0m\u001B[0mjoint\u001B[0m\u001B[0;34m(\u001B[0m\u001B[0;34m\"iiwa_2/joint_\"\u001B[0m \u001B[0;34m+\u001B[0m \u001B[0mstr\u001B[0m\u001B[0;34m(\u001B[0m\u001B[0mi\u001B[0m \u001B[0;34m+\u001B[0m \u001B[0;36m1\u001B[0m\u001B[0;34m)\u001B[0m\u001B[0;34m)\u001B[0m\u001B[0;34m.\u001B[0m\u001B[0mqvel\u001B[0m\u001B[0;34m\u001B[0m\u001B[0;34m\u001B[0m\u001B[0m\n\u001B[1;32m    135\u001B[0m \u001B[0;34m\u001B[0m\u001B[0m\n\u001B[0;32m--> 136\u001B[0;31m         \u001B[0mself\u001B[0m\u001B[0;34m.\u001B[0m\u001B[0muniversal_joint_plugin\u001B[0m\u001B[0;34m.\u001B[0m\u001B[0mreset\u001B[0m\u001B[0;34m(\u001B[0m\u001B[0;34m)\u001B[0m\u001B[0;34m\u001B[0m\u001B[0;34m\u001B[0m\u001B[0m\n\u001B[0m\u001B[1;32m    137\u001B[0m \u001B[0;34m\u001B[0m\u001B[0m\n\u001B[1;32m    138\u001B[0m         \u001B[0msuper\u001B[0m\u001B[0;34m(\u001B[0m\u001B[0;34m)\u001B[0m\u001B[0;34m.\u001B[0m\u001B[0msetup\u001B[0m\u001B[0;34m(\u001B[0m\u001B[0mobs\u001B[0m\u001B[0;34m)\u001B[0m\u001B[0;34m\u001B[0m\u001B[0;34m\u001B[0m\u001B[0m\n\u001B[1;32m    139\u001B[0m         \u001B[0;31m# Update body positions, needed for _compute_universal_joint\u001B[0m\u001B[0;34m\u001B[0m\u001B[0;34m\u001B[0m\u001B[0;34m\u001B[0m\u001B[0m\n",
      "\u001B[0;32m~/MPCRL_Project/air-hockey/td3/air_hockey_challenge/utils/universal_joint_plugin.py\u001B[0m in \u001B[0;36m?\u001B[0;34m(self)\u001B[0m\n\u001B[1;32m     38\u001B[0m     \u001B[0;32mdef\u001B[0m \u001B[0mreset\u001B[0m\u001B[0;34m(\u001B[0m\u001B[0mself\u001B[0m\u001B[0;34m)\u001B[0m\u001B[0;34m:\u001B[0m\u001B[0;34m\u001B[0m\u001B[0;34m\u001B[0m\u001B[0m\n\u001B[1;32m     39\u001B[0m         \u001B[0mself\u001B[0m\u001B[0;34m.\u001B[0m\u001B[0mu_joint_pos_prev\u001B[0m \u001B[0;34m=\u001B[0m \u001B[0;32mNone\u001B[0m\u001B[0;34m\u001B[0m\u001B[0;34m\u001B[0m\u001B[0m\n\u001B[0;32m---> 40\u001B[0;31m         \u001B[0mself\u001B[0m\u001B[0;34m.\u001B[0m\u001B[0m_control_universal_joint\u001B[0m\u001B[0;34m(\u001B[0m\u001B[0;34m)\u001B[0m\u001B[0;34m\u001B[0m\u001B[0;34m\u001B[0m\u001B[0m\n\u001B[0m\u001B[1;32m     41\u001B[0m         \u001B[0;32mfor\u001B[0m \u001B[0mi\u001B[0m \u001B[0;32min\u001B[0m \u001B[0mrange\u001B[0m\u001B[0;34m(\u001B[0m\u001B[0mself\u001B[0m\u001B[0;34m.\u001B[0m\u001B[0menv_info\u001B[0m\u001B[0;34m[\u001B[0m\u001B[0;34m'n_agents'\u001B[0m\u001B[0;34m]\u001B[0m\u001B[0;34m)\u001B[0m\u001B[0;34m:\u001B[0m\u001B[0;34m\u001B[0m\u001B[0;34m\u001B[0m\u001B[0m\n\u001B[1;32m     42\u001B[0m             \u001B[0mself\u001B[0m\u001B[0;34m.\u001B[0m\u001B[0mu_joint_vel_prev\u001B[0m \u001B[0;34m=\u001B[0m \u001B[0mself\u001B[0m\u001B[0;34m.\u001B[0m\u001B[0menv_data\u001B[0m\u001B[0;34m.\u001B[0m\u001B[0mqvel\u001B[0m\u001B[0;34m[\u001B[0m\u001B[0mself\u001B[0m\u001B[0;34m.\u001B[0m\u001B[0muniversal_joint_ids\u001B[0m\u001B[0;34m]\u001B[0m\u001B[0;34m\u001B[0m\u001B[0;34m\u001B[0m\u001B[0m\n\u001B[1;32m     43\u001B[0m \u001B[0;34m\u001B[0m\u001B[0m\n",
      "\u001B[0;32m~/MPCRL_Project/air-hockey/td3/air_hockey_challenge/utils/universal_joint_plugin.py\u001B[0m in \u001B[0;36m?\u001B[0;34m(self)\u001B[0m\n\u001B[1;32m     49\u001B[0m     \u001B[0;32mdef\u001B[0m \u001B[0m_control_universal_joint\u001B[0m\u001B[0;34m(\u001B[0m\u001B[0mself\u001B[0m\u001B[0;34m)\u001B[0m\u001B[0;34m:\u001B[0m\u001B[0;34m\u001B[0m\u001B[0;34m\u001B[0m\u001B[0m\n\u001B[0;32m---> 50\u001B[0;31m         \u001B[0mself\u001B[0m\u001B[0;34m.\u001B[0m\u001B[0m_compute_universal_joint\u001B[0m\u001B[0;34m(\u001B[0m\u001B[0;34m)\u001B[0m\u001B[0;34m\u001B[0m\u001B[0;34m\u001B[0m\u001B[0m\n\u001B[0m\u001B[1;32m     51\u001B[0m         \u001B[0mself\u001B[0m\u001B[0;34m.\u001B[0m\u001B[0mu_joint_pos_prev\u001B[0m \u001B[0;34m=\u001B[0m \u001B[0mself\u001B[0m\u001B[0;34m.\u001B[0m\u001B[0menv_data\u001B[0m\u001B[0;34m.\u001B[0m\u001B[0mqpos\u001B[0m\u001B[0;34m[\u001B[0m\u001B[0mself\u001B[0m\u001B[0;34m.\u001B[0m\u001B[0muniversal_joint_ids\u001B[0m\u001B[0;34m]\u001B[0m\u001B[0;34m\u001B[0m\u001B[0;34m\u001B[0m\u001B[0m\n\u001B[1;32m     52\u001B[0m         \u001B[0mself\u001B[0m\u001B[0;34m.\u001B[0m\u001B[0mu_joint_vel_prev\u001B[0m \u001B[0;34m=\u001B[0m \u001B[0mself\u001B[0m\u001B[0;34m.\u001B[0m\u001B[0mfilter_ratio\u001B[0m \u001B[0;34m*\u001B[0m \u001B[0mself\u001B[0m\u001B[0;34m.\u001B[0m\u001B[0menv_data\u001B[0m\u001B[0;34m.\u001B[0m\u001B[0mqvel\u001B[0m\u001B[0;34m[\u001B[0m\u001B[0mself\u001B[0m\u001B[0;34m.\u001B[0m\u001B[0muniversal_joint_ids\u001B[0m\u001B[0;34m]\u001B[0m \u001B[0;34m+\u001B[0m\u001B[0;31m \u001B[0m\u001B[0;31m\\\u001B[0m\u001B[0;34m\u001B[0m\u001B[0;34m\u001B[0m\u001B[0m\n\u001B[1;32m     53\u001B[0m                                 \u001B[0;34m(\u001B[0m\u001B[0;36m1\u001B[0m \u001B[0;34m-\u001B[0m \u001B[0mself\u001B[0m\u001B[0;34m.\u001B[0m\u001B[0mfilter_ratio\u001B[0m\u001B[0;34m)\u001B[0m \u001B[0;34m*\u001B[0m \u001B[0mself\u001B[0m\u001B[0;34m.\u001B[0m\u001B[0mu_joint_vel_prev\u001B[0m\u001B[0;34m\u001B[0m\u001B[0;34m\u001B[0m\u001B[0m\n",
      "\u001B[0;32m~/MPCRL_Project/air-hockey/td3/air_hockey_challenge/utils/universal_joint_plugin.py\u001B[0m in \u001B[0;36m?\u001B[0;34m(self)\u001B[0m\n\u001B[1;32m     60\u001B[0m     \u001B[0;32mdef\u001B[0m \u001B[0m_compute_universal_joint\u001B[0m\u001B[0;34m(\u001B[0m\u001B[0mself\u001B[0m\u001B[0;34m)\u001B[0m\u001B[0;34m:\u001B[0m\u001B[0;34m\u001B[0m\u001B[0;34m\u001B[0m\u001B[0m\n\u001B[1;32m     61\u001B[0m         \u001B[0;32mfor\u001B[0m \u001B[0mi\u001B[0m \u001B[0;32min\u001B[0m \u001B[0mrange\u001B[0m\u001B[0;34m(\u001B[0m\u001B[0mself\u001B[0m\u001B[0;34m.\u001B[0m\u001B[0menv_info\u001B[0m\u001B[0;34m[\u001B[0m\u001B[0;34m'n_agents'\u001B[0m\u001B[0;34m]\u001B[0m\u001B[0;34m)\u001B[0m\u001B[0;34m:\u001B[0m\u001B[0;34m\u001B[0m\u001B[0;34m\u001B[0m\u001B[0m\n\u001B[1;32m     62\u001B[0m             \u001B[0mq\u001B[0m \u001B[0;34m=\u001B[0m \u001B[0mself\u001B[0m\u001B[0;34m.\u001B[0m\u001B[0menv_data\u001B[0m\u001B[0;34m.\u001B[0m\u001B[0mqpos\u001B[0m\u001B[0;34m[\u001B[0m\u001B[0mself\u001B[0m\u001B[0;34m.\u001B[0m\u001B[0mactuator_joint_ids\u001B[0m\u001B[0;34m[\u001B[0m\u001B[0mi\u001B[0m \u001B[0;34m*\u001B[0m \u001B[0;36m7\u001B[0m\u001B[0;34m:\u001B[0m \u001B[0;34m(\u001B[0m\u001B[0mi\u001B[0m \u001B[0;34m+\u001B[0m \u001B[0;36m1\u001B[0m\u001B[0;34m)\u001B[0m \u001B[0;34m*\u001B[0m \u001B[0;36m7\u001B[0m\u001B[0;34m]\u001B[0m\u001B[0;34m]\u001B[0m\u001B[0;34m\u001B[0m\u001B[0;34m\u001B[0m\u001B[0m\n\u001B[1;32m     63\u001B[0m             \u001B[0;31m# Have to exclude the puck joints\u001B[0m\u001B[0;34m\u001B[0m\u001B[0;34m\u001B[0m\u001B[0;34m\u001B[0m\u001B[0m\n\u001B[0;32m---> 64\u001B[0;31m             pos, rot_mat = forward_kinematics(self.env_info['robot']['robot_model'],\n\u001B[0m\u001B[1;32m     65\u001B[0m                                               self.env_info['robot']['robot_data'], q)\n\u001B[1;32m     66\u001B[0m \u001B[0;34m\u001B[0m\u001B[0m\n\u001B[1;32m     67\u001B[0m             \u001B[0mv_x\u001B[0m \u001B[0;34m=\u001B[0m \u001B[0mrot_mat\u001B[0m\u001B[0;34m[\u001B[0m\u001B[0;34m:\u001B[0m\u001B[0;34m,\u001B[0m \u001B[0;36m0\u001B[0m\u001B[0;34m]\u001B[0m\u001B[0;34m\u001B[0m\u001B[0;34m\u001B[0m\u001B[0m\n",
      "\u001B[0;32m~/MPCRL_Project/air-hockey/td3/air_hockey_challenge/utils/kinematics.py\u001B[0m in \u001B[0;36m?\u001B[0;34m(mj_model, mj_data, q, link)\u001B[0m\n\u001B[1;32m     35\u001B[0m     \u001B[0morientation\u001B[0m\u001B[0;34m:\u001B[0m \u001B[0mnumpy\u001B[0m\u001B[0;34m.\u001B[0m\u001B[0mndarray\u001B[0m\u001B[0;34m,\u001B[0m \u001B[0;34m(\u001B[0m\u001B[0;36m3\u001B[0m\u001B[0;34m,\u001B[0m \u001B[0;36m3\u001B[0m\u001B[0;34m)\u001B[0m\u001B[0;34m\u001B[0m\u001B[0;34m\u001B[0m\u001B[0m\n\u001B[1;32m     36\u001B[0m         \u001B[0mOrientation\u001B[0m \u001B[0mof\u001B[0m \u001B[0mthe\u001B[0m \u001B[0mlink\u001B[0m \u001B[0;32min\u001B[0m \u001B[0mrobot\u001B[0m\u001B[0;31m'\u001B[0m\u001B[0ms\u001B[0m \u001B[0mbase\u001B[0m \u001B[0mframe\u001B[0m\u001B[0;34m\u001B[0m\u001B[0;34m\u001B[0m\u001B[0m\n\u001B[1;32m     37\u001B[0m     \"\"\"\n\u001B[1;32m     38\u001B[0m \u001B[0;34m\u001B[0m\u001B[0m\n\u001B[0;32m---> 39\u001B[0;31m     \u001B[0;32mreturn\u001B[0m \u001B[0m_mujoco_fk\u001B[0m\u001B[0;34m(\u001B[0m\u001B[0mq\u001B[0m\u001B[0;34m,\u001B[0m \u001B[0mlink_to_xml_name\u001B[0m\u001B[0;34m(\u001B[0m\u001B[0mmj_model\u001B[0m\u001B[0;34m,\u001B[0m \u001B[0mlink\u001B[0m\u001B[0;34m)\u001B[0m\u001B[0;34m,\u001B[0m \u001B[0mmj_model\u001B[0m\u001B[0;34m,\u001B[0m \u001B[0mmj_data\u001B[0m\u001B[0;34m)\u001B[0m\u001B[0;34m\u001B[0m\u001B[0;34m\u001B[0m\u001B[0m\n\u001B[0m",
      "\u001B[0;32m~/MPCRL_Project/air-hockey/td3/air_hockey_challenge/utils/kinematics.py\u001B[0m in \u001B[0;36m?\u001B[0;34m(q, name, model, data)\u001B[0m\n\u001B[1;32m    150\u001B[0m \u001B[0;32mdef\u001B[0m \u001B[0m_mujoco_fk\u001B[0m\u001B[0;34m(\u001B[0m\u001B[0mq\u001B[0m\u001B[0;34m,\u001B[0m \u001B[0mname\u001B[0m\u001B[0;34m,\u001B[0m \u001B[0mmodel\u001B[0m\u001B[0;34m,\u001B[0m \u001B[0mdata\u001B[0m\u001B[0;34m)\u001B[0m\u001B[0;34m:\u001B[0m\u001B[0;34m\u001B[0m\u001B[0;34m\u001B[0m\u001B[0m\n\u001B[0;32m--> 151\u001B[0;31m     \u001B[0mdata\u001B[0m\u001B[0;34m.\u001B[0m\u001B[0mqpos\u001B[0m\u001B[0;34m[\u001B[0m\u001B[0;34m:\u001B[0m\u001B[0mlen\u001B[0m\u001B[0;34m(\u001B[0m\u001B[0mq\u001B[0m\u001B[0;34m)\u001B[0m\u001B[0;34m]\u001B[0m \u001B[0;34m=\u001B[0m \u001B[0mq\u001B[0m\u001B[0;34m\u001B[0m\u001B[0;34m\u001B[0m\u001B[0m\n\u001B[0m\u001B[1;32m    152\u001B[0m     \u001B[0mmujoco\u001B[0m\u001B[0;34m.\u001B[0m\u001B[0mmj_fwdPosition\u001B[0m\u001B[0;34m(\u001B[0m\u001B[0mmodel\u001B[0m\u001B[0;34m,\u001B[0m \u001B[0mdata\u001B[0m\u001B[0;34m)\u001B[0m\u001B[0;34m\u001B[0m\u001B[0;34m\u001B[0m\u001B[0m\n\u001B[1;32m    153\u001B[0m     \u001B[0;32mreturn\u001B[0m \u001B[0mdata\u001B[0m\u001B[0;34m.\u001B[0m\u001B[0mbody\u001B[0m\u001B[0;34m(\u001B[0m\u001B[0mname\u001B[0m\u001B[0;34m)\u001B[0m\u001B[0;34m.\u001B[0m\u001B[0mxpos\u001B[0m\u001B[0;34m.\u001B[0m\u001B[0mcopy\u001B[0m\u001B[0;34m(\u001B[0m\u001B[0;34m)\u001B[0m\u001B[0;34m,\u001B[0m \u001B[0mdata\u001B[0m\u001B[0;34m.\u001B[0m\u001B[0mbody\u001B[0m\u001B[0;34m(\u001B[0m\u001B[0mname\u001B[0m\u001B[0;34m)\u001B[0m\u001B[0;34m.\u001B[0m\u001B[0mxmat\u001B[0m\u001B[0;34m.\u001B[0m\u001B[0mreshape\u001B[0m\u001B[0;34m(\u001B[0m\u001B[0;36m3\u001B[0m\u001B[0;34m,\u001B[0m \u001B[0;36m3\u001B[0m\u001B[0;34m)\u001B[0m\u001B[0;34m.\u001B[0m\u001B[0mcopy\u001B[0m\u001B[0;34m(\u001B[0m\u001B[0;34m)\u001B[0m\u001B[0;34m\u001B[0m\u001B[0;34m\u001B[0m\u001B[0m\n",
      "\u001B[0;32m~/miniconda3/envs/mpcrl/lib/python3.8/site-packages/casadi/casadi.py\u001B[0m in \u001B[0;36m?\u001B[0;34m(self, *args, **kwargs)\u001B[0m\n\u001B[1;32m  11029\u001B[0m         \u001B[0;32melse\u001B[0m\u001B[0;34m:\u001B[0m\u001B[0;34m\u001B[0m\u001B[0;34m\u001B[0m\u001B[0m\n\u001B[1;32m  11030\u001B[0m           \u001B[0;32mtry\u001B[0m\u001B[0;34m:\u001B[0m\u001B[0;34m\u001B[0m\u001B[0;34m\u001B[0m\u001B[0m\n\u001B[1;32m  11031\u001B[0m             \u001B[0;32mreturn\u001B[0m \u001B[0mself\u001B[0m\u001B[0;34m.\u001B[0m\u001B[0mfull\u001B[0m\u001B[0;34m(\u001B[0m\u001B[0;34m)\u001B[0m\u001B[0;34m\u001B[0m\u001B[0;34m\u001B[0m\u001B[0m\n\u001B[1;32m  11032\u001B[0m           \u001B[0;32mexcept\u001B[0m\u001B[0;34m:\u001B[0m\u001B[0;34m\u001B[0m\u001B[0;34m\u001B[0m\u001B[0m\n\u001B[0;32m> 11033\u001B[0;31m             \u001B[0;32mif\u001B[0m \u001B[0mself\u001B[0m\u001B[0;34m.\u001B[0m\u001B[0mis_scalar\u001B[0m\u001B[0;34m(\u001B[0m\u001B[0;32mTrue\u001B[0m\u001B[0;34m)\u001B[0m\u001B[0;34m:\u001B[0m\u001B[0;34m\u001B[0m\u001B[0;34m\u001B[0m\u001B[0m\n\u001B[0m\u001B[1;32m  11034\u001B[0m \u001B[0;31m#Needed for#2743\u001B[0m\u001B[0;34m\u001B[0m\u001B[0;34m\u001B[0m\u001B[0;34m\u001B[0m\u001B[0m\n\u001B[1;32m  11035\u001B[0m               \u001B[0mE\u001B[0m\u001B[0;34m=\u001B[0m\u001B[0mn\u001B[0m\u001B[0;34m.\u001B[0m\u001B[0mempty\u001B[0m\u001B[0;34m(\u001B[0m\u001B[0;34m(\u001B[0m\u001B[0;34m)\u001B[0m\u001B[0;34m,\u001B[0m\u001B[0mdtype\u001B[0m\u001B[0;34m=\u001B[0m\u001B[0mobject\u001B[0m\u001B[0;34m)\u001B[0m\u001B[0;34m\u001B[0m\u001B[0;34m\u001B[0m\u001B[0m\n\u001B[1;32m  11036\u001B[0m               \u001B[0mE\u001B[0m\u001B[0;34m[\u001B[0m\u001B[0;34m(\u001B[0m\u001B[0;34m)\u001B[0m\u001B[0;34m]\u001B[0m \u001B[0;34m=\u001B[0m \u001B[0mself\u001B[0m\u001B[0;34m\u001B[0m\u001B[0;34m\u001B[0m\u001B[0m\n",
      "\u001B[0;31mAttributeError\u001B[0m: 'numpy.ndarray' object has no attribute 'is_scalar'"
     ]
    }
   ],
   "source": [
    "state, done = env.reset(), False\n",
    "env.render()"
   ]
  },
  {
   "cell_type": "code",
   "execution_count": 29,
   "metadata": {
    "ExecuteTime": {
     "end_time": "2023-10-13T09:10:53.540601810Z",
     "start_time": "2023-10-13T09:10:53.183284546Z"
    }
   },
   "outputs": [
    {
     "ename": "NameError",
     "evalue": "name 'state' is not defined",
     "output_type": "error",
     "traceback": [
      "\u001B[0;31m---------------------------------------------------------------------------\u001B[0m",
      "\u001B[0;31mNameError\u001B[0m                                 Traceback (most recent call last)",
      "Cell \u001B[0;32mIn[29], line 1\u001B[0m\n\u001B[0;32m----> 1\u001B[0m q_0 \u001B[38;5;241m=\u001B[39m \u001B[43mstate\u001B[49m[\u001B[38;5;241m6\u001B[39m:\u001B[38;5;241m13\u001B[39m]\n\u001B[1;32m      2\u001B[0m jac \u001B[38;5;241m=\u001B[39m jacobian(policy\u001B[38;5;241m.\u001B[39mrobot_model, policy\u001B[38;5;241m.\u001B[39mrobot_data,q_0)[:\u001B[38;5;241m3\u001B[39m, :\u001B[38;5;241m7\u001B[39m]\n\u001B[1;32m      3\u001B[0m x0 \u001B[38;5;241m=\u001B[39m \u001B[38;5;28mlist\u001B[39m(forward_kinematics(policy\u001B[38;5;241m.\u001B[39mrobot_model, policy\u001B[38;5;241m.\u001B[39mrobot_data, q_0)[\u001B[38;5;241m0\u001B[39m])\n",
      "\u001B[0;31mNameError\u001B[0m: name 'state' is not defined"
     ]
    }
   ],
   "source": [
    "q_0 = state[6:13]\n",
    "jac = jacobian(policy.robot_model, policy.robot_data,q_0)[:3, :7]\n",
    "x0 = list(forward_kinematics(policy.robot_model, policy.robot_data, q_0)[0])\n",
    "# x0 = [ 6.50000005e-01, -1.01327613e-38,  1.64500044e-01]\n",
    "print(x0)"
   ]
  },
  {
   "cell_type": "code",
   "execution_count": 30,
   "metadata": {
    "ExecuteTime": {
     "end_time": "2023-10-13T09:10:53.668884600Z",
     "start_time": "2023-10-13T09:10:53.665047993Z"
    }
   },
   "outputs": [
    {
     "ename": "SyntaxError",
     "evalue": "invalid syntax (629198716.py, line 1)",
     "output_type": "error",
     "traceback": [
      "\u001B[0;36m  Cell \u001B[0;32mIn[30], line 1\u001B[0;36m\u001B[0m\n\u001B[0;31m    np.cos(0.5*2*np.pi*/100)\u001B[0m\n\u001B[0m                       ^\u001B[0m\n\u001B[0;31mSyntaxError\u001B[0m\u001B[0;31m:\u001B[0m invalid syntax\n"
     ]
    }
   ],
   "source": [
    "np.cos(0.5*2*np.pi*/100)"
   ]
  },
  {
   "cell_type": "code",
   "execution_count": 1,
   "metadata": {
    "ExecuteTime": {
     "end_time": "2023-10-13T12:35:10.457809830Z",
     "start_time": "2023-10-13T12:35:10.343069441Z"
    }
   },
   "outputs": [
    {
     "ename": "NameError",
     "evalue": "name 'np' is not defined",
     "output_type": "error",
     "traceback": [
      "\u001B[0;31m---------------------------------------------------------------------------\u001B[0m",
      "\u001B[0;31mNameError\u001B[0m                                 Traceback (most recent call last)",
      "Cell \u001B[0;32mIn[1], line 2\u001B[0m\n\u001B[1;32m      1\u001B[0m \u001B[38;5;28;01mfor\u001B[39;00m i \u001B[38;5;129;01min\u001B[39;00m \u001B[38;5;28mrange\u001B[39m(\u001B[38;5;241m100\u001B[39m):\n\u001B[0;32m----> 2\u001B[0m     x_des \u001B[38;5;241m=\u001B[39m \u001B[43mnp\u001B[49m\u001B[38;5;241m.\u001B[39marray([np\u001B[38;5;241m.\u001B[39msin(\u001B[38;5;241m0.25\u001B[39m\u001B[38;5;241m*\u001B[39m\u001B[38;5;241m2\u001B[39m\u001B[38;5;241m*\u001B[39mnp\u001B[38;5;241m.\u001B[39mpi\u001B[38;5;241m*\u001B[39mi\u001B[38;5;241m/\u001B[39m\u001B[38;5;241m100\u001B[39m),np\u001B[38;5;241m.\u001B[39mcos(\u001B[38;5;241m0.25\u001B[39m\u001B[38;5;241m*\u001B[39m\u001B[38;5;241m2\u001B[39m\u001B[38;5;241m*\u001B[39mnp\u001B[38;5;241m.\u001B[39mpi\u001B[38;5;241m*\u001B[39mi\u001B[38;5;241m/\u001B[39m\u001B[38;5;241m100\u001B[39m),\u001B[38;5;241m0.165\u001B[39m]) \u001B[38;5;241m+\u001B[39m np\u001B[38;5;241m.\u001B[39marray([\u001B[38;5;241m0.5\u001B[39m,\u001B[38;5;241m0\u001B[39m,\u001B[38;5;241m0\u001B[39m])\n\u001B[1;32m      3\u001B[0m     jac \u001B[38;5;241m=\u001B[39m jacobian(policy\u001B[38;5;241m.\u001B[39mrobot_model, policy\u001B[38;5;241m.\u001B[39mrobot_data,q_0)[:\u001B[38;5;241m3\u001B[39m, :\u001B[38;5;241m7\u001B[39m]\n\u001B[1;32m      4\u001B[0m     x0 \u001B[38;5;241m=\u001B[39m \u001B[38;5;28mlist\u001B[39m(forward_kinematics(policy\u001B[38;5;241m.\u001B[39mrobot_model, policy\u001B[38;5;241m.\u001B[39mrobot_data, q_0)[\u001B[38;5;241m0\u001B[39m])\n",
      "\u001B[0;31mNameError\u001B[0m: name 'np' is not defined"
     ]
    }
   ],
   "source": [
    "for i in range(100):\n",
    "    x_des = np.array([np.sin(0.25*2*np.pi*i/100),np.cos(0.25*2*np.pi*i/100),0.165]) + np.array([0.5,0,0])\n",
    "    jac = jacobian(policy.robot_model, policy.robot_data,q_0)[:3, :7]\n",
    "    x0 = list(forward_kinematics(policy.robot_model, policy.robot_data, q_0)[0])\n",
    "    # x0 = [ 6.50000005e-01, -1.01327613e-38,  1.64500044e-01]\n",
    "    print(x0)\n",
    "    # x_des = [1.2,0.02,0.165]    \n",
    "    print(x_des)\n",
    "    q,_ = solve_casadi(x0,x_des,jac)\n",
    "    # print(q)\n",
    "    next_q = q_0 + q*0.02\n",
    "    next_state, reward, done, info = env.step(next_q)\n",
    "    env.render()\n",
    "    q_0 = next_state[6:13]"
   ]
  },
  {
   "cell_type": "code",
   "execution_count": 151,
   "metadata": {},
   "outputs": [
    {
     "name": "stdout",
     "output_type": "stream",
     "text": [
      "[1.4562590692564716, 0.0006842168974050397, 0.14155115716534322]\n",
      "[1.2, 0.02, 0.165]\n",
      "This is Ipopt version 3.14.11, running with linear solver MUMPS 5.4.1.\n",
      "\n",
      "Number of nonzeros in equality constraint Jacobian...:      257\n",
      "Number of nonzeros in inequality constraint Jacobian.:        0\n",
      "Number of nonzeros in Lagrangian Hessian.............:       30\n",
      "\n",
      "Total number of variables............................:      100\n",
      "                     variables with only lower bounds:        0\n",
      "                variables with lower and upper bounds:      100\n",
      "                     variables with only upper bounds:        0\n",
      "Total number of equality constraints.................:       30\n",
      "Total number of inequality constraints...............:        0\n",
      "        inequality constraints with only lower bounds:        0\n",
      "   inequality constraints with lower and upper bounds:        0\n",
      "        inequality constraints with only upper bounds:        0\n",
      "\n",
      "iter    objective    inf_pr   inf_du lg(mu)  ||d||  lg(rg) alpha_du alpha_pr  ls\n",
      "   0  4.8315990e+00 9.46e-01 6.10e-02  -1.0 0.00e+00    -  0.00e+00 0.00e+00   0\n",
      "   1  2.3057310e-01 1.60e-01 7.14e+01  -1.0 1.77e+00    -  1.14e-02 8.31e-01f  1\n",
      "   2  7.5318764e-01 2.22e-16 3.82e-01  -1.0 2.38e-01    -  8.02e-01 1.00e+00h  1\n",
      "   3  7.5499619e-01 2.22e-16 7.74e-02  -1.7 4.93e-01    -  9.56e-01 1.00e+00f  1\n",
      "   4  7.4811843e-01 2.22e-16 6.48e-02  -2.5 1.41e-01    -  9.51e-01 1.00e+00f  1\n",
      "   5  7.2220473e-01 2.22e-16 6.38e-16  -2.5 1.12e+00    -  1.00e+00 1.00e+00f  1\n",
      "   6  7.0568335e-01 2.22e-16 1.79e-02  -3.8 3.93e-01    -  8.68e-01 7.76e-01f  1\n",
      "   7  6.9036906e-01 2.22e-16 7.10e-16  -3.8 7.34e-01    -  1.00e+00 1.00e+00f  1\n",
      "   8  6.8673148e-01 2.22e-16 2.07e-03  -5.7 1.06e+00    -  7.34e-01 9.33e-01f  1\n",
      "   9  6.8577040e-01 2.22e-16 1.23e-03  -5.7 1.25e+00    -  7.53e-01 1.00e+00f  1\n",
      "iter    objective    inf_pr   inf_du lg(mu)  ||d||  lg(rg) alpha_du alpha_pr  ls\n",
      "  10  6.8564565e-01 2.22e-16 2.34e-04  -5.7 1.15e+00    -  8.25e-01 1.00e+00f  1\n",
      "  11  6.8560354e-01 2.22e-16 4.73e-16  -5.7 9.51e-01    -  1.00e+00 1.00e+00f  1\n",
      "  12  6.8553553e-01 2.22e-16 3.34e-05  -8.6 8.48e-01    -  7.21e-01 9.41e-01f  1\n",
      "  13  6.8553029e-01 2.22e-16 9.73e-06  -8.6 6.29e-01    -  7.59e-01 8.77e-01f  1\n",
      "  14  6.8552873e-01 2.22e-16 3.16e-06  -8.6 1.13e+00    -  7.16e-01 9.33e-01f  1\n",
      "  15  6.8552835e-01 2.22e-16 6.34e-07  -8.6 9.29e-01    -  8.00e-01 1.00e+00f  1\n",
      "  16  6.8552834e-01 2.22e-16 6.17e-16  -8.6 6.58e-01    -  1.00e+00 1.00e+00h  1\n",
      "\n",
      "Number of Iterations....: 16\n",
      "\n",
      "                                   (scaled)                 (unscaled)\n",
      "Objective...............:   6.8552834118178851e-01    6.8552834118178851e-01\n",
      "Dual infeasibility......:   6.1748099667352556e-16    6.1748099667352556e-16\n",
      "Constraint violation....:   2.2204460492503131e-16    2.2204460492503131e-16\n",
      "Variable bound violation:   0.0000000000000000e+00    0.0000000000000000e+00\n",
      "Complementarity.........:   3.2871980127637453e-09    3.2871980127637453e-09\n",
      "Overall NLP error.......:   3.2871980127637453e-09    3.2871980127637453e-09\n",
      "\n",
      "\n",
      "Number of objective function evaluations             = 17\n",
      "Number of objective gradient evaluations             = 17\n",
      "Number of equality constraint evaluations            = 17\n",
      "Number of inequality constraint evaluations          = 0\n",
      "Number of equality constraint Jacobian evaluations   = 17\n",
      "Number of inequality constraint Jacobian evaluations = 0\n",
      "Number of Lagrangian Hessian evaluations             = 16\n",
      "Total seconds in IPOPT                               = 0.032\n",
      "\n",
      "EXIT: Optimal Solution Found.\n",
      "      solver  :   t_proc      (avg)   t_wall      (avg)    n_eval\n",
      "       nlp_f  |  88.00us (  5.18us)  86.68us (  5.10us)        17\n",
      "       nlp_g  | 414.00us ( 24.35us) 280.82us ( 16.52us)        17\n",
      "  nlp_grad_f  | 135.00us (  7.11us) 122.14us (  6.43us)        19\n",
      "  nlp_hess_l  |  82.00us (  5.12us)  72.42us (  4.53us)        16\n",
      "   nlp_jac_g  | 231.00us ( 12.83us) 226.98us ( 12.61us)        18\n",
      "       total  |  33.79ms ( 33.79ms)  32.93ms ( 32.93ms)         1\n"
     ]
    },
    {
     "ename": "ValueError",
     "evalue": "too many values to unpack (expected 2)",
     "output_type": "error",
     "traceback": [
      "\u001B[0;31m---------------------------------------------------------------------------\u001B[0m",
      "\u001B[0;31mValueError\u001B[0m                                Traceback (most recent call last)",
      "\u001B[1;32m/home/captain/mpc_rl project/air hockey/td3/test.ipynb Cell 14\u001B[0m line \u001B[0;36m7\n\u001B[1;32m      <a href='vscode-notebook-cell:/home/captain/mpc_rl%20project/air%20hockey/td3/test.ipynb#X14sZmlsZQ%3D%3D?line=4'>5</a>\u001B[0m x_des \u001B[39m=\u001B[39m [\u001B[39m1.2\u001B[39m,\u001B[39m0.02\u001B[39m,\u001B[39m0.165\u001B[39m]\n\u001B[1;32m      <a href='vscode-notebook-cell:/home/captain/mpc_rl%20project/air%20hockey/td3/test.ipynb#X14sZmlsZQ%3D%3D?line=5'>6</a>\u001B[0m \u001B[39mprint\u001B[39m(x_des)\n\u001B[0;32m----> <a href='vscode-notebook-cell:/home/captain/mpc_rl%20project/air%20hockey/td3/test.ipynb#X14sZmlsZQ%3D%3D?line=6'>7</a>\u001B[0m q,_ \u001B[39m=\u001B[39m solve_casadi(x0,x_des,jac)\n\u001B[1;32m      <a href='vscode-notebook-cell:/home/captain/mpc_rl%20project/air%20hockey/td3/test.ipynb#X14sZmlsZQ%3D%3D?line=7'>8</a>\u001B[0m \u001B[39mprint\u001B[39m(_)\n\u001B[1;32m      <a href='vscode-notebook-cell:/home/captain/mpc_rl%20project/air%20hockey/td3/test.ipynb#X14sZmlsZQ%3D%3D?line=8'>9</a>\u001B[0m \u001B[39m# print(q)\u001B[39;00m\n\u001B[1;32m     <a href='vscode-notebook-cell:/home/captain/mpc_rl%20project/air%20hockey/td3/test.ipynb#X14sZmlsZQ%3D%3D?line=9'>10</a>\u001B[0m \u001B[39m# next_q = q_0 + q*0.02\u001B[39;00m\n\u001B[1;32m     <a href='vscode-notebook-cell:/home/captain/mpc_rl%20project/air%20hockey/td3/test.ipynb#X14sZmlsZQ%3D%3D?line=10'>11</a>\u001B[0m \u001B[39m# next_state, reward, done, info = env.step(next_q)\u001B[39;00m\n\u001B[1;32m     <a href='vscode-notebook-cell:/home/captain/mpc_rl%20project/air%20hockey/td3/test.ipynb#X14sZmlsZQ%3D%3D?line=11'>12</a>\u001B[0m \u001B[39m# env.render()\u001B[39;00m\n\u001B[1;32m     <a href='vscode-notebook-cell:/home/captain/mpc_rl%20project/air%20hockey/td3/test.ipynb#X14sZmlsZQ%3D%3D?line=12'>13</a>\u001B[0m \u001B[39m# q_0 = next_state[6:13]\u001B[39;00m\n",
      "\u001B[0;31mValueError\u001B[0m: too many values to unpack (expected 2)"
     ]
    }
   ],
   "source": [
    "\n",
    "jac = jacobian(policy.robot_model, policy.robot_data,q_0)[:3, :7]\n",
    "x0 = list(forward_kinematics(policy.robot_model, policy.robot_data, q_0)[0])\n",
    "# x0 = [ 6.50000005e-01, -1.01327613e-38,  1.64500044e-01]\n",
    "print(x0)\n",
    "x_des = [1.2,0.02,0.165]\n",
    "print(x_des)\n",
    "q,_ = solve_casadi(x0,x_des,jac)\n",
    "print(_)\n",
    "# print(q)\n",
    "# next_q = q_0 + q*0.02\n",
    "# next_state, reward, done, info = env.step(next_q)\n",
    "# env.render()\n",
    "# q_0 = next_state[6:13]"
   ]
  },
  {
   "cell_type": "code",
   "execution_count": 147,
   "metadata": {},
   "outputs": [
    {
     "data": {
      "text/plain": [
       "True"
      ]
     },
     "execution_count": 147,
     "metadata": {},
     "output_type": "execute_result"
    }
   ],
   "source": [
    "q.stats()['success']"
   ]
  },
  {
   "cell_type": "code",
   "execution_count": 13,
   "metadata": {},
   "outputs": [
    {
     "name": "stdout",
     "output_type": "stream",
     "text": [
      "[-2.35619449  0.68        0.02        0.165     ]\n"
     ]
    }
   ],
   "source": [
    "print(_)"
   ]
  },
  {
   "cell_type": "code",
   "execution_count": 14,
   "metadata": {},
   "outputs": [
    {
     "name": "stdout",
     "output_type": "stream",
     "text": [
      "[ 1.48352986  1.48352986  1.74532925  0.4550553  -1.83892528 -2.35619449\n",
      " -2.35619449]\n"
     ]
    }
   ],
   "source": [
    "print(q)\n"
   ]
  },
  {
   "cell_type": "code",
   "execution_count": 15,
   "metadata": {},
   "outputs": [],
   "source": [
    "next_state, reward, done, info = env.step(next_q)\n",
    "env.render()"
   ]
  },
  {
   "cell_type": "code",
   "execution_count": null,
   "metadata": {},
   "outputs": [],
   "source": []
  },
  {
   "cell_type": "code",
   "execution_count": null,
   "metadata": {},
   "outputs": [],
   "source": []
  },
  {
   "cell_type": "code",
   "execution_count": null,
   "metadata": {},
   "outputs": [],
   "source": []
  },
  {
   "cell_type": "code",
   "execution_count": null,
   "metadata": {},
   "outputs": [],
   "source": []
  },
  {
   "cell_type": "code",
   "execution_count": 16,
   "metadata": {},
   "outputs": [],
   "source": [
    "# # Define number of steps in the control horizon and discretization step\n",
    "# N = 20\n",
    "# delta_t = 1/50\n",
    "# # Define RK4 integrator function and initial state x0_bar\n",
    "# F_rk4 = Function(\"F_rk4\", [s, omega], [integrate_RK4(s, omega, s_dot, delta_t)])\n",
    "# x0_bar = [-.5, .5,.165]\n",
    "\n",
    "# # Define the weighting matrix for the cost function\n",
    "# Q = np.eye(n_s)\n",
    "# R = np.eye(n_a)"
   ]
  },
  {
   "cell_type": "code",
   "execution_count": 17,
   "metadata": {},
   "outputs": [],
   "source": [
    "# # Start with an empty NLP\n",
    "# w = []\n",
    "# w0 = []\n",
    "# lbw = []\n",
    "# ubw = []\n",
    "# J = 0\n",
    "# g = []\n",
    "# lbg = []\n",
    "# ubg = []\n",
    "\n",
    "# # \"Lift\" initial conditions\n",
    "# Xk = SX.sym('X0', 3)\n",
    "# w += [Xk]\n",
    "# lbw += x0_bar    # set initial state\n",
    "# ubw += x0_bar    # set initial state\n",
    "# w0 += x0_bar     # set initial state\n",
    "\n",
    "# # Formulate the NLP\n",
    "# for k in range(N):\n",
    "#     # New NLP variable for the control\n",
    "#     Uk = SX.sym('U_' + str(k),7)\n",
    "#     w   += [Uk]\n",
    "#     lbw += [-1.48352986, -1.48352986, -1.74532925, -1.30899694, -2.26892803,\n",
    "#        -2.35619449, -2.35619449]\n",
    "#     ubw += [1.48352986, 1.48352986, 1.74532925, 1.30899694, 2.26892803,\n",
    "#        2.35619449, 2.35619449]\n",
    "#     w0  += [0,0,0,0,0,0,0]\n",
    "\n",
    "#     # Integrate till the end of the interval\n",
    "#     Xk_end = F_rk4(Xk, Uk)\n",
    "#     J = J + sumsqr(delta_t * 1/2 * (Xk.T @ Q @ Xk + R * Uk)) # Complete with the stage cost\n",
    "\n",
    "#     # New NLP variable for state at end of interval\n",
    "#     Xk = SX.sym(f'X_{k+1}', 3)\n",
    "#     w += [Xk]\n",
    "#     lbw += [-.5,-.5,0.165]\n",
    "#     ubw += [0,.5,0.175]\n",
    "#     w0 += [0, 0,0]\n",
    "\n",
    "#     # Add equality constraint to \"close the gap\" for multiple shooting\n",
    "#     g   += [Xk_end-Xk]\n",
    "#     lbg += [0, 0,0]\n",
    "#     ubg += [0, 0,0]\n",
    "# J = J + sumsqr(1/2 * (Xk.T @ Q @ Xk)) # Complete with the terminal cost (NOTE it should be weighted by delta_t)\n",
    "\n",
    "# # Create an NLP solver\n",
    "# prob = {'f': J, 'x': vertcat(*w), 'g': vertcat(*g)}\n",
    "# solver = qpsol('solver', 'qpoases', prob)\n",
    "\n",
    "# # Solve the NLP\n",
    "# sol = solver(x0=w0, lbx=lbw, ubx=ubw, lbg=lbg, ubg=ubg)\n",
    "# w_opt = sol['x'].full().flatten()"
   ]
  },
  {
   "cell_type": "code",
   "execution_count": 18,
   "metadata": {},
   "outputs": [
    {
     "ename": "NameError",
     "evalue": "name 'w_opt' is not defined",
     "output_type": "error",
     "traceback": [
      "\u001B[0;31m---------------------------------------------------------------------------\u001B[0m",
      "\u001B[0;31mNameError\u001B[0m                                 Traceback (most recent call last)",
      "\u001B[1;32m/home/captain/mpc_rl project/air hockey/td3/test.ipynb Cell 18\u001B[0m line \u001B[0;36m1\n\u001B[0;32m----> <a href='vscode-notebook-cell:/home/captain/mpc_rl%20project/air%20hockey/td3/test.ipynb#X23sZmlsZQ%3D%3D?line=0'>1</a>\u001B[0m s_traj_opt \u001B[39m=\u001B[39m np\u001B[39m.\u001B[39mvstack((w_opt[::\u001B[39m3\u001B[39m], w_opt[\u001B[39m1\u001B[39m::\u001B[39m3\u001B[39m]))\n\u001B[1;32m      <a href='vscode-notebook-cell:/home/captain/mpc_rl%20project/air%20hockey/td3/test.ipynb#X23sZmlsZQ%3D%3D?line=1'>2</a>\u001B[0m a_traj_opt \u001B[39m=\u001B[39m w_opt[\u001B[39m2\u001B[39m::\u001B[39m3\u001B[39m][np\u001B[39m.\u001B[39mnewaxis, \u001B[39m.\u001B[39m\u001B[39m.\u001B[39m\u001B[39m.\u001B[39m]\n",
      "\u001B[0;31mNameError\u001B[0m: name 'w_opt' is not defined"
     ]
    }
   ],
   "source": [
    "s_traj_opt = np.vstack((w_opt[::3], w_opt[1::3]))\n",
    "a_traj_opt = w_opt[2::3][np.newaxis, ...]"
   ]
  },
  {
   "cell_type": "code",
   "execution_count": null,
   "metadata": {},
   "outputs": [
    {
     "data": {
      "text/plain": [
       "(1, 1)"
      ]
     },
     "execution_count": 29,
     "metadata": {},
     "output_type": "execute_result"
    }
   ],
   "source": [
    "sol['x'][1].shape"
   ]
  },
  {
   "cell_type": "code",
   "execution_count": null,
   "metadata": {},
   "outputs": [
    {
     "data": {
      "text/plain": [
       "array([1.48352986, 1.48352986, 1.74532925, 1.30899694, 2.26892803,\n",
       "       2.35619449, 2.35619449])"
      ]
     },
     "execution_count": 29,
     "metadata": {},
     "output_type": "execute_result"
    }
   ],
   "source": [
    "policy.env_info['robot']['joint_vel_limit'][1]"
   ]
  },
  {
   "cell_type": "code",
   "execution_count": null,
   "metadata": {},
   "outputs": [
    {
     "name": "stdout",
     "output_type": "stream",
     "text": [
      "Unexpected exception formatting exception. Falling back to standard exception\n"
     ]
    },
    {
     "name": "stderr",
     "output_type": "stream",
     "text": [
      "Traceback (most recent call last):\n",
      "  File \"/home/captain/anaconda3/envs/challenge/lib/python3.8/site-packages/casadi/casadi.py\", line 13398, in __array__\n",
      "    return self.full()\n",
      "  File \"/home/captain/anaconda3/envs/challenge/lib/python3.8/site-packages/casadi/casadi.py\", line 11693, in <lambda>\n",
      "    __getattr__ = lambda self, name: _swig_getattr(self, SX, name)\n",
      "  File \"/home/captain/anaconda3/envs/challenge/lib/python3.8/site-packages/casadi/casadi.py\", line 83, in _swig_getattr\n",
      "    raise AttributeError(\"'%s' object has no attribute '%s'\" % (class_type.__name__, name))\n",
      "AttributeError: 'SX' object has no attribute 'full'\n",
      "\n",
      "During handling of the above exception, another exception occurred:\n",
      "\n",
      "Traceback (most recent call last):\n",
      "  File \"/home/captain/anaconda3/envs/challenge/lib/python3.8/site-packages/IPython/core/interactiveshell.py\", line 3505, in run_code\n",
      "    exec(code_obj, self.user_global_ns, self.user_ns)\n",
      "  File \"/tmp/ipykernel_42207/749874423.py\", line 17, in <module>\n",
      "    F_forward = Function(\"F_forward\", [theta],[frwd_kinematics(theta)])\n",
      "  File \"/tmp/ipykernel_42207/663365227.py\", line 2, in frwd_kinematics\n",
      "    return forward_kinematics(policy.robot_model, policy.robot_data,theta)[0]\n",
      "  File \"/home/captain/mpc_rl project/air hockey/td3/air_hockey_challenge/utils/kinematics.py\", line 39, in forward_kinematics\n",
      "    return _mujoco_fk(q, link_to_xml_name(mj_model, link), mj_model, mj_data)\n",
      "  File \"/home/captain/mpc_rl project/air hockey/td3/air_hockey_challenge/utils/kinematics.py\", line 151, in _mujoco_fk\n",
      "    data.qpos[:7] = q\n",
      "  File \"/home/captain/anaconda3/envs/challenge/lib/python3.8/site-packages/casadi/casadi.py\", line 13406, in __array__\n",
      "    raise Exception(\"Implicit conversion of symbolic CasADi type to numeric matrix not supported.\\n\"\n",
      "Exception: Implicit conversion of symbolic CasADi type to numeric matrix not supported.\n",
      "This may occur when you pass a CasADi object to a numpy function.\n",
      "Use an equivalent CasADi function instead of that numpy function.\n",
      "\n",
      "During handling of the above exception, another exception occurred:\n",
      "\n",
      "Traceback (most recent call last):\n",
      "  File \"/home/captain/anaconda3/envs/challenge/lib/python3.8/site-packages/IPython/core/interactiveshell.py\", line 2102, in showtraceback\n",
      "    stb = self.InteractiveTB.structured_traceback(\n",
      "  File \"/home/captain/anaconda3/envs/challenge/lib/python3.8/site-packages/IPython/core/ultratb.py\", line 1310, in structured_traceback\n",
      "    return FormattedTB.structured_traceback(\n",
      "  File \"/home/captain/anaconda3/envs/challenge/lib/python3.8/site-packages/IPython/core/ultratb.py\", line 1199, in structured_traceback\n",
      "    return VerboseTB.structured_traceback(\n",
      "  File \"/home/captain/anaconda3/envs/challenge/lib/python3.8/site-packages/IPython/core/ultratb.py\", line 1071, in structured_traceback\n",
      "    formatted_exceptions += self.format_exception_as_a_whole(etype, evalue, etb, lines_of_context,\n",
      "  File \"/home/captain/anaconda3/envs/challenge/lib/python3.8/site-packages/IPython/core/ultratb.py\", line 978, in format_exception_as_a_whole\n",
      "    frames.append(self.format_record(record))\n",
      "  File \"/home/captain/anaconda3/envs/challenge/lib/python3.8/site-packages/IPython/core/ultratb.py\", line 851, in format_record\n",
      "    assert False\n",
      "AssertionError\n"
     ]
    }
   ],
   "source": [
    "import numpy as np\n",
    "from casadi import SX, vertcat, Function, sumsqr\n",
    "\n",
    "P = SX.sym('P',3)\n",
    "V = SX.sym('V',3)\n",
    "\n",
    "des_state = [1,1,0.1645]\n",
    "\n",
    "X = vertcat(P, V)\n",
    "\n",
    "theta = SX.sym('theta',7)\n",
    "theta_dot = SX.sym('theta_dot',7)\n",
    "\n",
    "u = vertcat(theta, theta_dot)\n",
    "\n",
    "# p,r = forward_kinematics(policy.robot_model, policy.robot_data,des_pos)\n",
    "F_forward = Function(\"F_forward\", [theta],[frwd_kinematics(theta)])\n",
    "\n",
    "f = sumsqr(P-des_state)\n",
    "g = P[2]-0.1645"
   ]
  },
  {
   "cell_type": "code",
   "execution_count": null,
   "metadata": {},
   "outputs": [
    {
     "data": {
      "text/plain": [
       "SX([theta_0, theta_1, theta_2, theta_3, theta_4, theta_5, theta_6])"
      ]
     },
     "execution_count": 20,
     "metadata": {},
     "output_type": "execute_result"
    }
   ],
   "source": [
    "# Start with an empty NLP\n",
    "w = []\n",
    "w0 = []\n",
    "lbw = []\n",
    "ubw = []\n",
    "J = 0\n",
    "g = []\n",
    "lbg = []\n",
    "ubg = []\n",
    "\n",
    "# \"Lift\" initial conditions\n",
    "Xk = SX.sym('X0', 2)\n",
    "w += [Xk]\n",
    "lbw += x0_bar    # set initial state\n",
    "ubw += x0_bar    # set initial state\n",
    "w0 += x0_bar     # set initial state\n",
    "\n",
    "# Formulate the NLP\n",
    "for k in range(N):\n",
    "    # New NLP variable for the control\n",
    "    Uk = SX.sym('U_' + str(k))\n",
    "    w   += [Uk]\n",
    "    lbw += [-1]\n",
    "    ubw += [1]\n",
    "    w0  += [0]\n",
    "\n",
    "    # Integrate till the end of the interval\n",
    "    Xk_end = F_rk4(Xk, Uk)\n",
    "    J = J + delta_t * 1/2 * (Xk.T @ Q @ Xk + R * Uk**2) # Complete with the stage cost\n",
    "\n",
    "    # New NLP variable for state at end of interval\n",
    "    Xk = SX.sym(f'X_{k+1}', 2)\n",
    "    w += [Xk]\n",
    "    lbw += [-np.pi/2, -inf]\n",
    "    ubw += [2*np.pi, inf]\n",
    "    w0 += [0, 0]\n",
    "\n",
    "    # Add equality constraint to \"close the gap\" for multiple shooting\n",
    "    g   += [Xk_end-Xk]\n",
    "    lbg += [0, 0]\n",
    "    ubg += [0, 0]\n",
    "J = J + 1/2 * (Xk.T @ Q @ Xk) # Complete with the terminal cost (NOTE it should be weighted by delta_t)\n",
    "\n",
    "# Create an NLP solver\n",
    "prob = {'f': J, 'x': vertcat(*w), 'g': vertcat(*g)}\n",
    "solver = nlpsol('solver', 'ipopt', prob)\n",
    "\n",
    "# Solve the NLP\n",
    "sol = solver(x0=w0, lbx=lbw, ubx=ubw, lbg=lbg, ubg=ubg)\n",
    "w_opt = sol['x'].full().flatten()"
   ]
  },
  {
   "cell_type": "code",
   "execution_count": null,
   "metadata": {},
   "outputs": [],
   "source": [
    "# Define number of steps in the control horizon and discretization step\n",
    "N = 2\n",
    "delta_t = 1/50\n",
    "# Define RK4 integrator function and initial state x0_bar\n",
    "x0_bar = [des_current_pos, des_current_vel]\n",
    "\n",
    "# Define the weighting matrix for the cost function\n",
    "# Q = np.eye(6)\n",
    "# R = np.eye(n_a)"
   ]
  },
  {
   "cell_type": "code",
   "execution_count": null,
   "metadata": {},
   "outputs": [],
   "source": [
    "# Start with an empty NLP\n",
    "w = []\n",
    "w0 = []\n",
    "lbw = []\n",
    "ubw = []\n",
    "J = 0\n",
    "g = []\n",
    "lbg = []\n",
    "ubg = []\n",
    "\n",
    "# \"Lift\" initial conditions\n",
    "Xk = SX.sym('X0', )\n",
    "w += [Xk]\n",
    "lbw += x0_bar    # set initial state\n",
    "ubw += x0_bar    # set initial state\n",
    "w0 += x0_bar     # set initial state\n",
    "\n",
    "# Formulate the NLP\n",
    "for k in range(N):\n",
    "    # New NLP variable for the control\n",
    "    Uk = SX.sym('U_' + str(k))\n",
    "    w   += [Uk]\n",
    "    lbw += [-1]\n",
    "    ubw += [1]\n",
    "    w0  += [0]\n",
    "\n",
    "    # Integrate till the end of the interval\n",
    "    Xk_end = F_rk4(Xk, Uk)\n",
    "    J = J + delta_t * 1/2 * (Xk.T @ Q @ Xk + R * Uk**2) # Complete with the stage cost\n",
    "\n",
    "    # New NLP variable for state at end of interval\n",
    "    Xk = SX.sym(f'X_{k+1}', 2)\n",
    "    w += [Xk]\n",
    "    lbw += [-np.pi/2, -inf]\n",
    "    ubw += [2*np.pi, inf]\n",
    "    w0 += [0, 0]\n",
    "\n",
    "    # Add equality constraint to \"close the gap\" for multiple shooting\n",
    "    g   += [Xk_end-Xk]\n",
    "    lbg += [0, 0]\n",
    "    ubg += [0, 0]\n",
    "J = J + 1/2 * (Xk.T @ Q @ Xk) # Complete with the terminal cost (NOTE it should be weighted by delta_t)\n",
    "\n",
    "# Create an NLP solver\n",
    "prob = {'f': J, 'x': vertcat(*w), 'g': vertcat(*g)}\n",
    "solver = nlpsol('solver', 'ipopt', prob)\n",
    "\n",
    "# Solve the NLP\n",
    "sol = solver(x0=w0, lbx=lbw, ubx=ubw, lbg=lbg, ubg=ubg)\n",
    "w_opt = sol['x'].full().flatten()"
   ]
  }
 ],
 "metadata": {
  "kernelspec": {
   "display_name": "Python 3.8.16 ('challenge')",
   "language": "python",
   "name": "python3"
  },
  "language_info": {
   "codemirror_mode": {
    "name": "ipython",
    "version": 3
   },
   "file_extension": ".py",
   "mimetype": "text/x-python",
   "name": "python",
   "nbconvert_exporter": "python",
   "pygments_lexer": "ipython3",
   "version": "3.8.18"
  },
  "orig_nbformat": 4,
  "vscode": {
   "interpreter": {
    "hash": "6100d8334917db35c4ec7cf716c3100bfc66eb35e85e153ba7e378d404aaa54d"
   }
  }
 },
 "nbformat": 4,
 "nbformat_minor": 2
}
